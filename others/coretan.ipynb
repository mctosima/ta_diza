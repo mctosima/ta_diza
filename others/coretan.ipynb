{
 "cells": [
  {
   "cell_type": "code",
   "execution_count": 1,
   "metadata": {},
   "outputs": [],
   "source": [
    "from torchvision.ops import box_iou\n",
    "import torch"
   ]
  },
  {
   "cell_type": "code",
   "execution_count": 5,
   "metadata": {},
   "outputs": [
    {
     "name": "stdout",
     "output_type": "stream",
     "text": [
      "tensor([[1.]])\n"
     ]
    }
   ],
   "source": [
    "# SAMPLE OF IOU CALCULATION\n",
    "# format bbox (x,y,w,h) <--- ini yang standar COCO\n",
    "# contoh xywh: 14, 18, 5, 7\n",
    "# format bbox (x, y, xmax, ymax) <--- ini yang dipakai di FasterRCNN, torchvision.ops.box_iou\n",
    "# contoh xyxmaxymax: 14, 18, 19, 25\n",
    "\n",
    "labelnya_diza = torch.tensor([[14, 18, 19, 25]])\n",
    "hasil_prediksi_model = torch.tensor([[14, 18, 19, 25]])\n",
    "iou = box_iou(labelnya_diza, hasil_prediksi_model)\n",
    "print(iou)"
   ]
  }
 ],
 "metadata": {
  "kernelspec": {
   "display_name": "Python 3.8.13 ('pytorch112_py38')",
   "language": "python",
   "name": "python3"
  },
  "language_info": {
   "codemirror_mode": {
    "name": "ipython",
    "version": 3
   },
   "file_extension": ".py",
   "mimetype": "text/x-python",
   "name": "python",
   "nbconvert_exporter": "python",
   "pygments_lexer": "ipython3",
   "version": "3.8.13"
  },
  "orig_nbformat": 4,
  "vscode": {
   "interpreter": {
    "hash": "176e86e6e21052ff89627b8e89e4f48b2aef17a8606feae6b75037084a2df81a"
   }
  }
 },
 "nbformat": 4,
 "nbformat_minor": 2
}
