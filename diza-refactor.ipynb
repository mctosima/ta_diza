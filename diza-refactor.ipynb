{
 "cells": [
  {
   "cell_type": "markdown",
   "metadata": {},
   "source": [
    "# Import"
   ]
  },
  {
   "cell_type": "code",
   "execution_count": 2,
   "metadata": {},
   "outputs": [],
   "source": [
    "import numpy as np\n",
    "import pandas as pd\n",
    "import os\n",
    "import cv2 as cv\n",
    "import matplotlib.pyplot as plt\n",
    "import matplotlib.patches as patches\n",
    "import copy\n",
    "import math\n",
    "import random\n",
    "from glob import glob\n",
    "\n",
    "import torch\n",
    "import torchvision\n",
    "from torchvision import datasets, models\n",
    "from torchvision.utils import draw_bounding_boxes\n",
    "from torchvision.transforms import transforms as T\n",
    "\n",
    "\n",
    "from pycocotools.coco import COCO\n",
    "from roboflow import Roboflow\n",
    "\n",
    "import albumentations as A\n",
    "from albumentations.pytorch import ToTensorV2"
   ]
  },
  {
   "cell_type": "markdown",
   "metadata": {},
   "source": [
    "# Preparation\n",
    "### Load Data from Roboflow"
   ]
  },
  {
   "cell_type": "code",
   "execution_count": 3,
   "metadata": {},
   "outputs": [],
   "source": [
    "if not os.path.exists(\"maskdetection-3\"):\n",
    "    print(\"Downloading dataset...\")\n",
    "    rf = Roboflow(api_key=\"RLpF5qnVG3u4wi0Hgkmg\")\n",
    "    project = rf.workspace(\"diza-febriyan-hasal\").project(\"maskdetection-tdrvn\")\n",
    "    dataset = project.version(3).download(\"coco\")"
   ]
  },
  {
   "cell_type": "markdown",
   "metadata": {},
   "source": [
    "### Coret-coretan MCT"
   ]
  },
  {
   "cell_type": "code",
   "execution_count": null,
   "metadata": {},
   "outputs": [],
   "source": [
    "coco = COCO(os.path.join(\"maskdetection-3\", \"train\", \"_annotations.coco.json\"))\n",
    "anotasi_img = coco.loadAnns(coco.getAnnIds(0))\n",
    "print(anotasi_img)\n",
    "print(anotasi_img[0][\"bbox\"])"
   ]
  },
  {
   "cell_type": "markdown",
   "metadata": {},
   "source": [
    "### Data Reader"
   ]
  },
  {
   "cell_type": "code",
   "execution_count": 4,
   "metadata": {},
   "outputs": [],
   "source": [
    "class MaskDetection(datasets.VisionDataset):\n",
    "\n",
    "    \"\"\"\n",
    "    MaskDetection Datareader\n",
    "    Return:\n",
    "        - image pixels as tensor\n",
    "        - annotation as dictionary\n",
    "    \"\"\"\n",
    "\n",
    "    def __init__(self, root, split=\"train\"):\n",
    "        self.root = root\n",
    "        self.split = split\n",
    "        self.transforms = ToTensorV2()\n",
    "        self.coco = COCO(os.path.join(root, split, \"_annotations.coco.json\"))\n",
    "        self.ids = list(sorted(self.coco.imgs.keys()))\n",
    "\n",
    "    def __getitem__(self, idx: int):\n",
    "        id = self.ids[idx]\n",
    "        anotasi_img = self.coco.loadAnns(self.coco.getAnnIds(idx))\n",
    "        imgpath = self.coco.loadImgs(id)[0][\"file_name\"]\n",
    "        image = cv.imread(os.path.join(self.root, self.split, imgpath))\n",
    "        image = cv.cvtColor(image, cv.COLOR_BGR2RGB)\n",
    "\n",
    "        image = self.transforms(image=image)[\"image\"]\n",
    "\n",
    "        # xmin = anotasi_img[0][\"bbox\"][0]\n",
    "        # ymin = anotasi_img[0][\"bbox\"][1]\n",
    "        # xmax = xmin + anotasi_img[0][\"bbox\"][2]  # NOTE: Ubah menjadi xmax ymax\n",
    "        # ymax = ymin + anotasi_img[0][\"bbox\"][3]\n",
    "\n",
    "        my_annotation = {}\n",
    "        my_annotation[\"boxes\"] = [\n",
    "            [\n",
    "                anotasi_img[0][\"bbox\"][0],\n",
    "                anotasi_img[0][\"bbox\"][1],\n",
    "                anotasi_img[0][\"bbox\"][2],\n",
    "                anotasi_img[0][\"bbox\"][3],\n",
    "            ]\n",
    "        ]\n",
    "        my_annotation[\"image_id\"] = id\n",
    "        return image.div(255), my_annotation\n",
    "\n",
    "    def __len__(self):\n",
    "        return len(self.ids)"
   ]
  },
  {
   "cell_type": "code",
   "execution_count": 5,
   "metadata": {},
   "outputs": [
    {
     "name": "stdout",
     "output_type": "stream",
     "text": [
      "loading annotations into memory...\n",
      "Done (t=0.01s)\n",
      "creating index...\n",
      "index created!\n",
      "loading annotations into memory...\n",
      "Done (t=0.00s)\n",
      "creating index...\n",
      "index created!\n",
      "loading annotations into memory...\n",
      "Done (t=0.00s)\n",
      "creating index...\n",
      "index created!\n"
     ]
    }
   ],
   "source": [
    "dataset_path = \"maskdetection-3\"\n",
    "train_dataset = MaskDetection(root=dataset_path, split=\"train\")\n",
    "val_dataset = MaskDetection(root=dataset_path, split=\"valid\")\n",
    "test_dataset = MaskDetection(root=dataset_path, split=\"test\")"
   ]
  },
  {
   "cell_type": "markdown",
   "metadata": {},
   "source": [
    "### Cek Ombak DataReadernya \n",
    "> Sengaja di random, supaya gambarnya ganti-ganti\n",
    "\n",
    "- Bounding box digambar pakai `import matplotlib.patches as patches` supaya lebih gampang"
   ]
  },
  {
   "cell_type": "code",
   "execution_count": 6,
   "metadata": {},
   "outputs": [
    {
     "name": "stdout",
     "output_type": "stream",
     "text": [
      "{'boxes': [[26, 28, 27.979375000000005, 18.030625]], 'image_id': 866}\n",
      "[[26, 28, 27.979375000000005, 18.030625]]\n"
     ]
    },
    {
     "data": {
      "image/png": "[encoded data removed]",
      "text/plain": [
       "<Figure size 640x480 with 1 Axes>"
      ]
     },
     "metadata": {},
     "output_type": "display_data"
    }
   ],
   "source": [
    "image_sample = train_dataset[random.randint(0, len(train_dataset))]\n",
    "image_pixels = image_sample[0]\n",
    "image_ann = image_sample[1]\n",
    "print(image_ann)\n",
    "\n",
    "plt.imshow(image_pixels.permute(1, 2, 0))\n",
    "print(image_ann[\"boxes\"])\n",
    "rect = patches.Rectangle(\n",
    "    (image_ann[\"boxes\"][0][0], image_ann[\"boxes\"][0][1]),\n",
    "    image_ann[\"boxes\"][0][2],\n",
    "    image_ann[\"boxes\"][0][3],\n",
    "    linewidth=2,\n",
    "    edgecolor=\"r\",\n",
    "    facecolor=\"none\",\n",
    ")\n",
    "plt.gca().add_patch(rect)\n",
    "plt.show()"
   ]
  }
 ],
 "metadata": {
  "kernelspec": {
   "display_name": "Python 3.8.13 ('pytorch112_py38')",
   "language": "python",
   "name": "python3"
  },
  "language_info": {
   "codemirror_mode": {
    "name": "ipython",
    "version": 3
   },
   "file_extension": ".py",
   "mimetype": "text/x-python",
   "name": "python",
   "nbconvert_exporter": "python",
   "pygments_lexer": "ipython3",
   "version": "3.8.13"
  },
  "orig_nbformat": 4,
  "vscode": {
   "interpreter": {
    "hash": "176e86e6e21052ff89627b8e89e4f48b2aef17a8606feae6b75037084a2df81a"
   }
  }
 },
 "nbformat": 4,
 "nbformat_minor": 2
}
