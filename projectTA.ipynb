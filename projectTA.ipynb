{
 "cells": [
  {
   "cell_type": "markdown",
   "metadata": {
    "id": "cu6Zg2_l6ZBB"
   },
   "source": [
    "#PENJELASAN SINGKAT PROJECT\n",
    "\n",
    "---\n",
    "\n"
   ]
  },
  {
   "cell_type": "markdown",
   "metadata": {
    "id": "SDkscW-b6elU"
   },
   "source": []
  },
  {
   "cell_type": "code",
   "execution_count": 1,
   "metadata": {
    "colab": {
     "base_uri": "https://localhost:8080/"
    },
    "executionInfo": {
     "elapsed": 6339,
     "status": "ok",
     "timestamp": 1662888244889,
     "user": {
      "displayName": "Diza Febriyan",
      "userId": "13111238588501847745"
     },
     "user_tz": -420
    },
    "id": "4tmZ9X8OgzBl",
    "outputId": "f0c4d5fd-7343-4219-bec3-3002afb14765"
   },
   "outputs": [
    {
     "name": "stdout",
     "output_type": "stream",
     "text": [
      "Looking in indexes: https://pypi.org/simple, https://us-python.pkg.dev/colab-wheels/public/simple/\n",
      "Collecting albumentations==0.4.6\n",
      "  Downloading albumentations-0.4.6.tar.gz (117 kB)\n",
      "\u001b[K     |████████████████████████████████| 117 kB 29.8 MB/s \n",
      "\u001b[?25hRequirement already satisfied: numpy>=1.11.1 in /usr/local/lib/python3.7/dist-packages (from albumentations==0.4.6) (1.21.6)\n",
      "Requirement already satisfied: scipy in /usr/local/lib/python3.7/dist-packages (from albumentations==0.4.6) (1.7.3)\n",
      "Requirement already satisfied: imgaug>=0.4.0 in /usr/local/lib/python3.7/dist-packages (from albumentations==0.4.6) (0.4.0)\n",
      "Requirement already satisfied: PyYAML in /usr/local/lib/python3.7/dist-packages (from albumentations==0.4.6) (6.0)\n",
      "Requirement already satisfied: opencv-python>=4.1.1 in /usr/local/lib/python3.7/dist-packages (from albumentations==0.4.6) (4.6.0.66)\n",
      "Requirement already satisfied: matplotlib in /usr/local/lib/python3.7/dist-packages (from imgaug>=0.4.0->albumentations==0.4.6) (3.2.2)\n",
      "Requirement already satisfied: six in /usr/local/lib/python3.7/dist-packages (from imgaug>=0.4.0->albumentations==0.4.6) (1.15.0)\n",
      "Requirement already satisfied: scikit-image>=0.14.2 in /usr/local/lib/python3.7/dist-packages (from imgaug>=0.4.0->albumentations==0.4.6) (0.18.3)\n",
      "Requirement already satisfied: Pillow in /usr/local/lib/python3.7/dist-packages (from imgaug>=0.4.0->albumentations==0.4.6) (7.1.2)\n",
      "Requirement already satisfied: Shapely in /usr/local/lib/python3.7/dist-packages (from imgaug>=0.4.0->albumentations==0.4.6) (1.8.4)\n",
      "Requirement already satisfied: imageio in /usr/local/lib/python3.7/dist-packages (from imgaug>=0.4.0->albumentations==0.4.6) (2.9.0)\n",
      "Requirement already satisfied: networkx>=2.0 in /usr/local/lib/python3.7/dist-packages (from scikit-image>=0.14.2->imgaug>=0.4.0->albumentations==0.4.6) (2.6.3)\n",
      "Requirement already satisfied: PyWavelets>=1.1.1 in /usr/local/lib/python3.7/dist-packages (from scikit-image>=0.14.2->imgaug>=0.4.0->albumentations==0.4.6) (1.3.0)\n",
      "Requirement already satisfied: tifffile>=2019.7.26 in /usr/local/lib/python3.7/dist-packages (from scikit-image>=0.14.2->imgaug>=0.4.0->albumentations==0.4.6) (2021.11.2)\n",
      "Requirement already satisfied: kiwisolver>=1.0.1 in /usr/local/lib/python3.7/dist-packages (from matplotlib->imgaug>=0.4.0->albumentations==0.4.6) (1.4.4)\n",
      "Requirement already satisfied: pyparsing!=2.0.4,!=2.1.2,!=2.1.6,>=2.0.1 in /usr/local/lib/python3.7/dist-packages (from matplotlib->imgaug>=0.4.0->albumentations==0.4.6) (3.0.9)\n",
      "Requirement already satisfied: cycler>=0.10 in /usr/local/lib/python3.7/dist-packages (from matplotlib->imgaug>=0.4.0->albumentations==0.4.6) (0.11.0)\n",
      "Requirement already satisfied: python-dateutil>=2.1 in /usr/local/lib/python3.7/dist-packages (from matplotlib->imgaug>=0.4.0->albumentations==0.4.6) (2.8.2)\n",
      "Requirement already satisfied: typing-extensions in /usr/local/lib/python3.7/dist-packages (from kiwisolver>=1.0.1->matplotlib->imgaug>=0.4.0->albumentations==0.4.6) (4.1.1)\n",
      "Building wheels for collected packages: albumentations\n",
      "  Building wheel for albumentations (setup.py) ... \u001b[?25l\u001b[?25hdone\n",
      "  Created wheel for albumentations: filename=albumentations-0.4.6-py3-none-any.whl size=65174 sha256=d0d56dad448754dd725474d7cf0fdd017a6a599064d106d6898c52bed8fae949\n",
      "  Stored in directory: /root/.cache/pip/wheels/cf/34/0f/cb2a5f93561a181a4bcc84847ad6aaceea8b5a3127469616cc\n",
      "Successfully built albumentations\n",
      "Installing collected packages: albumentations\n",
      "  Attempting uninstall: albumentations\n",
      "    Found existing installation: albumentations 1.2.1\n",
      "    Uninstalling albumentations-1.2.1:\n",
      "      Successfully uninstalled albumentations-1.2.1\n",
      "Successfully installed albumentations-0.4.6\n"
     ]
    }
   ],
   "source": [
    "!pip install albumentations==0.4.6"
   ]
  },
  {
   "cell_type": "markdown",
   "metadata": {
    "id": "I87CiIgW2M2H"
   },
   "source": [
    "# **[1.INISIASI LIBRARY]**"
   ]
  },
  {
   "cell_type": "code",
   "execution_count": 2,
   "metadata": {
    "executionInfo": {
     "elapsed": 4069,
     "status": "ok",
     "timestamp": 1662888248951,
     "user": {
      "displayName": "Diza Febriyan",
      "userId": "13111238588501847745"
     },
     "user_tz": -420
    },
    "id": "8Dswhx-5bvK3"
   },
   "outputs": [],
   "source": [
    "import numpy as np\n",
    "import pandas as pd\n",
    "import os\n",
    "import torch\n",
    "import torchvision\n",
    "import cv2 as cv\n",
    "from pycocotools.coco import COCO\n",
    "from torchvision import datasets, models\n",
    "import matplotlib.pyplot as plt\n",
    "import copy\n",
    "from torchvision.utils import draw_bounding_boxes\n",
    "import albumentations as A\n",
    "from albumentations.pytorch import ToTensorV2\n",
    "from torchvision.transforms import transforms as T\n",
    "import math"
   ]
  },
  {
   "cell_type": "markdown",
   "metadata": {
    "id": "f8yvdMt5uZ0b"
   },
   "source": [
    "##*-warnings.filterwarnings(\"ignore\")* \n",
    "### berfungsi untuk mengabaikan semua peringatan\n",
    "sumber : \n",
    "\n",
    "1.https://www.delftstack.com/howto/python/suppress-warnings-python/\n",
    "\n",
    "2.https://www.pengembangan-web-mp-pd.com/id/python/menghilangkan-peringatan-dari-scikit-belajar/1055744856/"
   ]
  },
  {
   "cell_type": "code",
   "execution_count": 3,
   "metadata": {
    "executionInfo": {
     "elapsed": 10,
     "status": "ok",
     "timestamp": 1662888248951,
     "user": {
      "displayName": "Diza Febriyan",
      "userId": "13111238588501847745"
     },
     "user_tz": -420
    },
    "id": "BGKpkrYi2aS-"
   },
   "outputs": [],
   "source": [
    "import warnings\n",
    "\n",
    "warnings.filterwarnings(\"ignore\")"
   ]
  },
  {
   "cell_type": "markdown",
   "metadata": {
    "id": "twU7A7sNwsVp"
   },
   "source": [
    "##-memeriksa versi library torch dan torchvision\n",
    "####pada penelitian ini pastikan \n",
    "    torch : 1.12.1+cu113\n",
    "    torchvision : 0.13.1+cu113 "
   ]
  },
  {
   "cell_type": "code",
   "execution_count": 4,
   "metadata": {
    "colab": {
     "base_uri": "https://localhost:8080/",
     "height": 145
    },
    "executionInfo": {
     "elapsed": 11,
     "status": "ok",
     "timestamp": 1662888248953,
     "user": {
      "displayName": "Diza Febriyan",
      "userId": "13111238588501847745"
     },
     "user_tz": -420
    },
    "id": "T1k3uzhhbvK7",
    "outputId": "f9cd969e-5847-4c17-edc6-6510c8a2a22b"
   },
   "outputs": [
    {
     "name": "stdout",
     "output_type": "stream",
     "text": [
      "1.12.1+cu113\n",
      "0.13.1+cu113\n"
     ]
    },
    {
     "data": {
      "application/vnd.google.colaboratory.intrinsic+json": {
       "type": "string"
      },
      "text/plain": [
       "'\\nGeneral configuration for OpenCV 4.6.0 =====================================\\n  Version control:               unknown\\n\\n  Extra modules:\\n    Location (extra):            /io/opencv_contrib/modules\\n    Version control (extra):     unknown\\n\\n  Platform:\\n    Timestamp:                   2022-06-07T10:28:32Z\\n    Host:                        Linux 5.13.0-1025-azure x86_64\\n    CMake:                       3.22.5\\n    CMake generator:             Unix Makefiles\\n    CMake build tool:            /bin/gmake\\n    Configuration:               Release\\n\\n  CPU/HW features:\\n    Baseline:                    SSE SSE2 SSE3\\n      requested:                 SSE3\\n    Dispatched code generation:  SSE4_1 SSE4_2 FP16 AVX AVX2 AVX512_SKX\\n      requested:                 SSE4_1 SSE4_2 AVX FP16 AVX2 AVX512_SKX\\n      SSE4_1 (16 files):         + SSSE3 SSE4_1\\n      SSE4_2 (1 files):          + SSSE3 SSE4_1 POPCNT SSE4_2\\n      FP16 (0 files):            + SSSE3 SSE4_1 POPCNT SSE4_2 FP16 AVX\\n      AVX (4 files):             + SSSE3 SSE4_1 POPCNT SSE4_2 AVX\\n      AVX2 (31 files):           + SSSE3 SSE4_1 POPCNT SSE4_2 FP16 FMA3 AVX AVX2\\n      AVX512_SKX (5 files):      + SSSE3 SSE4_1 POPCNT SSE4_2 FP16 FMA3 AVX AVX2 AVX_512F AVX512_COMMON AVX512_SKX\\n\\n  C/C++:\\n    Built as dynamic libs?:      NO\\n    C++ standard:                11\\n    C++ Compiler:                /usr/lib/ccache/compilers/c++  (ver 10.2.1)\\n    C++ flags (Release):         -Wl,-strip-all   -fsigned-char -W -Wall -Wreturn-type -Wnon-virtual-dtor -Waddress -Wsequence-point -Wformat -Wformat-security -Wmissing-declarations -Wundef -Winit-self -Wpointer-arith -Wshadow -Wsign-promo -Wuninitialized -Wsuggest-override -Wno-delete-non-virtual-dtor -Wno-comment -Wimplicit-fallthrough=3 -Wno-strict-overflow -fdiagnostics-show-option -Wno-long-long -pthread -fomit-frame-pointer -ffunction-sections -fdata-sections  -msse -msse2 -msse3 -fvisibility=hidden -fvisibility-inlines-hidden -O3 -DNDEBUG  -DNDEBUG\\n    C++ flags (Debug):           -Wl,-strip-all   -fsigned-char -W -Wall -Wreturn-type -Wnon-virtual-dtor -Waddress -Wsequence-point -Wformat -Wformat-security -Wmissing-declarations -Wundef -Winit-self -Wpointer-arith -Wshadow -Wsign-promo -Wuninitialized -Wsuggest-override -Wno-delete-non-virtual-dtor -Wno-comment -Wimplicit-fallthrough=3 -Wno-strict-overflow -fdiagnostics-show-option -Wno-long-long -pthread -fomit-frame-pointer -ffunction-sections -fdata-sections  -msse -msse2 -msse3 -fvisibility=hidden -fvisibility-inlines-hidden -g  -O0 -DDEBUG -D_DEBUG\\n    C Compiler:                  /usr/lib/ccache/compilers/cc\\n    C flags (Release):           -Wl,-strip-all   -fsigned-char -W -Wall -Wreturn-type -Waddress -Wsequence-point -Wformat -Wformat-security -Wmissing-declarations -Wmissing-prototypes -Wstrict-prototypes -Wundef -Winit-self -Wpointer-arith -Wshadow -Wuninitialized -Wno-comment -Wno-strict-overflow -fdiagnostics-show-option -Wno-long-long -pthread -fomit-frame-pointer -ffunction-sections -fdata-sections  -msse -msse2 -msse3 -fvisibility=hidden -O3 -DNDEBUG  -DNDEBUG\\n    C flags (Debug):             -Wl,-strip-all   -fsigned-char -W -Wall -Wreturn-type -Waddress -Wsequence-point -Wformat -Wformat-security -Wmissing-declarations -Wmissing-prototypes -Wstrict-prototypes -Wundef -Winit-self -Wpointer-arith -Wshadow -Wuninitialized -Wno-comment -Wno-strict-overflow -fdiagnostics-show-option -Wno-long-long -pthread -fomit-frame-pointer -ffunction-sections -fdata-sections  -msse -msse2 -msse3 -fvisibility=hidden -g  -O0 -DDEBUG -D_DEBUG\\n    Linker flags (Release):      -Wl,--exclude-libs,libippicv.a -Wl,--exclude-libs,libippiw.a -L/root/ffmpeg_build/lib  -Wl,--gc-sections -Wl,--as-needed -Wl,--no-undefined  \\n    Linker flags (Debug):        -Wl,--exclude-libs,libippicv.a -Wl,--exclude-libs,libippiw.a -L/root/ffmpeg_build/lib  -Wl,--gc-sections -Wl,--as-needed -Wl,--no-undefined  \\n    ccache:                      YES\\n    Precompiled headers:         NO\\n    Extra dependencies:          /lib64/libopenblas.so Qt5::Test Qt5::Concurrent /usr/local/lib/libpng.so /lib64/libz.so Qt5::Core Qt5::Gui Qt5::Widgets Iconv::Iconv dl m pthread rt\\n    3rdparty dependencies:       libprotobuf ade ittnotify libjpeg-turbo libwebp libtiff libopenjp2 IlmImf quirc ippiw ippicv\\n\\n  OpenCV modules:\\n    To be built:                 aruco barcode bgsegm bioinspired calib3d ccalib core cvv datasets dnn dnn_objdetect dnn_superres dpm face features2d flann fuzzy gapi hfs highgui img_hash imgcodecs imgproc intensity_transform line_descriptor mcc ml objdetect optflow phase_unwrapping photo plot python3 quality rapid reg rgbd saliency shape stereo stitching structured_light superres surface_matching text tracking video videoio videostab wechat_qrcode xfeatures2d ximgproc xobjdetect xphoto\\n    Disabled:                    world\\n    Disabled by dependency:      -\\n    Unavailable:                 alphamat cudaarithm cudabgsegm cudacodec cudafeatures2d cudafilters cudaimgproc cudalegacy cudaobjdetect cudaoptflow cudastereo cudawarping cudev freetype hdf java julia matlab ovis python2 sfm ts viz\\n    Applications:                -\\n    Documentation:               NO\\n    Non-free algorithms:         NO\\n\\n  GUI:                           QT5\\n    QT:                          YES (ver 5.15.0 )\\n      QT OpenGL support:         NO\\n    GTK+:                        NO\\n    VTK support:                 NO\\n\\n  Media I/O: \\n    ZLib:                        /lib64/libz.so (ver 1.2.7)\\n    JPEG:                        libjpeg-turbo (ver 2.1.2-62)\\n    WEBP:                        build (ver encoder: 0x020f)\\n    PNG:                         /usr/local/lib/libpng.so (ver 1.6.37)\\n    TIFF:                        build (ver 42 - 4.2.0)\\n    JPEG 2000:                   build (ver 2.4.0)\\n    OpenEXR:                     build (ver 2.3.0)\\n    HDR:                         YES\\n    SUNRASTER:                   YES\\n    PXM:                         YES\\n    PFM:                         YES\\n\\n  Video I/O:\\n    DC1394:                      NO\\n    FFMPEG:                      YES\\n      avcodec:                   YES (58.134.100)\\n      avformat:                  YES (58.76.100)\\n      avutil:                    YES (56.70.100)\\n      swscale:                   YES (5.9.100)\\n      avresample:                NO\\n    GStreamer:                   NO\\n    v4l/v4l2:                    YES (linux/videodev2.h)\\n\\n  Parallel framework:            pthreads\\n\\n  Trace:                         YES (with Intel ITT)\\n\\n  Other third-party libraries:\\n    Intel IPP:                   2020.0.0 Gold [2020.0.0]\\n           at:                   /io/_skbuild/linux-x86_64-3.6/cmake-build/3rdparty/ippicv/ippicv_lnx/icv\\n    Intel IPP IW:                sources (2020.0.0)\\n              at:                /io/_skbuild/linux-x86_64-3.6/cmake-build/3rdparty/ippicv/ippicv_lnx/iw\\n    VA:                          NO\\n    Lapack:                      YES (/lib64/libopenblas.so)\\n    Eigen:                       NO\\n    Custom HAL:                  NO\\n    Protobuf:                    build (3.19.1)\\n\\n  OpenCL:                        YES (no extra features)\\n    Include path:                /io/opencv/3rdparty/include/opencl/1.2\\n    Link libraries:              Dynamic load\\n\\n  Python 3:\\n    Interpreter:                 /opt/python/cp36-cp36m/bin/python3.6 (ver 3.6.15)\\n    Libraries:                   libpython3.6m.a (ver 3.6.15)\\n    numpy:                       /opt/python/cp36-cp36m/lib/python3.6/site-packages/numpy/core/include (ver 1.13.3)\\n    install path:                python/cv2/python-3\\n\\n  Python (for build):            /bin/python2.7\\n\\n  Java:                          \\n    ant:                         NO\\n    JNI:                         NO\\n    Java wrappers:               NO\\n    Java tests:                  NO\\n\\n  Install to:                    /io/_skbuild/linux-x86_64-3.6/cmake-install\\n-----------------------------------------------------------------\\n\\n'"
      ]
     },
     "execution_count": 4,
     "metadata": {},
     "output_type": "execute_result"
    }
   ],
   "source": [
    "print(torch.__version__)\n",
    "print(torchvision.__version__)\n",
    "cv.getBuildInformation()"
   ]
  },
  {
   "cell_type": "markdown",
   "metadata": {
    "id": "17-f8FZQweKK"
   },
   "source": [
    "##-mengkoneksikan antara google colabs dan google drive pribaadi"
   ]
  },
  {
   "cell_type": "code",
   "execution_count": 5,
   "metadata": {
    "colab": {
     "base_uri": "https://localhost:8080/"
    },
    "executionInfo": {
     "elapsed": 72128,
     "status": "ok",
     "timestamp": 1662888321073,
     "user": {
      "displayName": "Diza Febriyan",
      "userId": "13111238588501847745"
     },
     "user_tz": -420
    },
    "id": "32aBb5rShGwm",
    "outputId": "5b97372a-b27c-419f-c837-b77aff1d6a6d"
   },
   "outputs": [
    {
     "name": "stdout",
     "output_type": "stream",
     "text": [
      "Mounted at /content/drive\n"
     ]
    }
   ],
   "source": [
    "from google.colab import drive\n",
    "\n",
    "drive.mount(\"/content/drive\")"
   ]
  },
  {
   "cell_type": "markdown",
   "metadata": {
    "id": "sCndFYFnxb76"
   },
   "source": [
    "## -import dataset pada roboflow kedalam project google colabs\n",
    "###code bisa di dapatkan melalui roboflow\n"
   ]
  },
  {
   "cell_type": "code",
   "execution_count": 6,
   "metadata": {
    "colab": {
     "base_uri": "https://localhost:8080/",
     "height": 1000
    },
    "executionInfo": {
     "elapsed": 20737,
     "status": "ok",
     "timestamp": 1662888341797,
     "user": {
      "displayName": "Diza Febriyan",
      "userId": "13111238588501847745"
     },
     "user_tz": -420
    },
    "id": "NyacEuQQQ_Ha",
    "outputId": "3a889caa-a447-4503-a86c-93b9a54c10d5"
   },
   "outputs": [
    {
     "name": "stdout",
     "output_type": "stream",
     "text": [
      "Looking in indexes: https://pypi.org/simple, https://us-python.pkg.dev/colab-wheels/public/simple/\n",
      "Collecting roboflow\n",
      "  Downloading roboflow-0.2.14.tar.gz (18 kB)\n",
      "Collecting certifi==2021.5.30\n",
      "  Downloading certifi-2021.5.30-py2.py3-none-any.whl (145 kB)\n",
      "\u001b[K     |████████████████████████████████| 145 kB 43.8 MB/s \n",
      "\u001b[?25hCollecting chardet==4.0.0\n",
      "  Downloading chardet-4.0.0-py2.py3-none-any.whl (178 kB)\n",
      "\u001b[K     |████████████████████████████████| 178 kB 64.8 MB/s \n",
      "\u001b[?25hCollecting cycler==0.10.0\n",
      "  Downloading cycler-0.10.0-py2.py3-none-any.whl (6.5 kB)\n",
      "Requirement already satisfied: glob2 in /usr/local/lib/python3.7/dist-packages (from roboflow) (0.7)\n",
      "Requirement already satisfied: idna==2.10 in /usr/local/lib/python3.7/dist-packages (from roboflow) (2.10)\n",
      "Collecting kiwisolver==1.3.1\n",
      "  Downloading kiwisolver-1.3.1-cp37-cp37m-manylinux1_x86_64.whl (1.1 MB)\n",
      "\u001b[K     |████████████████████████████████| 1.1 MB 59.7 MB/s \n",
      "\u001b[?25hRequirement already satisfied: matplotlib in /usr/local/lib/python3.7/dist-packages (from roboflow) (3.2.2)\n",
      "Requirement already satisfied: numpy>=1.18.5 in /usr/local/lib/python3.7/dist-packages (from roboflow) (1.21.6)\n",
      "Requirement already satisfied: opencv-python-headless>=4.5.1.48 in /usr/local/lib/python3.7/dist-packages (from roboflow) (4.6.0.66)\n",
      "Requirement already satisfied: Pillow>=7.1.2 in /usr/local/lib/python3.7/dist-packages (from roboflow) (7.1.2)\n",
      "Collecting pyparsing==2.4.7\n",
      "  Downloading pyparsing-2.4.7-py2.py3-none-any.whl (67 kB)\n",
      "\u001b[K     |████████████████████████████████| 67 kB 3.9 MB/s \n",
      "\u001b[?25hRequirement already satisfied: python-dateutil in /usr/local/lib/python3.7/dist-packages (from roboflow) (2.8.2)\n",
      "Collecting python-dotenv\n",
      "  Downloading python_dotenv-0.21.0-py3-none-any.whl (18 kB)\n",
      "Requirement already satisfied: requests in /usr/local/lib/python3.7/dist-packages (from roboflow) (2.23.0)\n",
      "Collecting requests_toolbelt\n",
      "  Downloading requests_toolbelt-0.9.1-py2.py3-none-any.whl (54 kB)\n",
      "\u001b[K     |████████████████████████████████| 54 kB 2.7 MB/s \n",
      "\u001b[?25hRequirement already satisfied: six in /usr/local/lib/python3.7/dist-packages (from roboflow) (1.15.0)\n",
      "Collecting urllib3==1.26.6\n",
      "  Downloading urllib3-1.26.6-py2.py3-none-any.whl (138 kB)\n",
      "\u001b[K     |████████████████████████████████| 138 kB 71.0 MB/s \n",
      "\u001b[?25hCollecting wget\n",
      "  Downloading wget-3.2.zip (10 kB)\n",
      "Requirement already satisfied: tqdm>=4.41.0 in /usr/local/lib/python3.7/dist-packages (from roboflow) (4.64.0)\n",
      "Requirement already satisfied: PyYAML>=5.3.1 in /usr/local/lib/python3.7/dist-packages (from roboflow) (6.0)\n",
      "Collecting requests\n",
      "  Downloading requests-2.28.1-py3-none-any.whl (62 kB)\n",
      "\u001b[K     |████████████████████████████████| 62 kB 843 kB/s \n",
      "\u001b[?25hRequirement already satisfied: charset-normalizer<3,>=2 in /usr/local/lib/python3.7/dist-packages (from requests->roboflow) (2.1.1)\n",
      "Building wheels for collected packages: roboflow, wget\n",
      "  Building wheel for roboflow (setup.py) ... \u001b[?25l\u001b[?25hdone\n",
      "  Created wheel for roboflow: filename=roboflow-0.2.14-py3-none-any.whl size=24837 sha256=6f36cd7c854627c78b3c8b4d6f5da810f77c8a1b606aa85c033a0c2a3346071d\n",
      "  Stored in directory: /root/.cache/pip/wheels/c7/84/36/a6a32c749ead923690d15d20443fb53fa2fe10beaa408f371b\n",
      "  Building wheel for wget (setup.py) ... \u001b[?25l\u001b[?25hdone\n",
      "  Created wheel for wget: filename=wget-3.2-py3-none-any.whl size=9675 sha256=0b39cffe068bc3eca9d101876320d72ee23f5133527ee1624ea362a2790a6c38\n",
      "  Stored in directory: /root/.cache/pip/wheels/a1/b6/7c/0e63e34eb06634181c63adacca38b79ff8f35c37e3c13e3c02\n",
      "Successfully built roboflow wget\n",
      "Installing collected packages: urllib3, certifi, requests, pyparsing, kiwisolver, cycler, wget, requests-toolbelt, python-dotenv, chardet, roboflow\n",
      "  Attempting uninstall: urllib3\n",
      "    Found existing installation: urllib3 1.24.3\n",
      "    Uninstalling urllib3-1.24.3:\n",
      "      Successfully uninstalled urllib3-1.24.3\n",
      "  Attempting uninstall: certifi\n",
      "    Found existing installation: certifi 2022.6.15\n",
      "    Uninstalling certifi-2022.6.15:\n",
      "      Successfully uninstalled certifi-2022.6.15\n",
      "  Attempting uninstall: requests\n",
      "    Found existing installation: requests 2.23.0\n",
      "    Uninstalling requests-2.23.0:\n",
      "      Successfully uninstalled requests-2.23.0\n",
      "  Attempting uninstall: pyparsing\n",
      "    Found existing installation: pyparsing 3.0.9\n",
      "    Uninstalling pyparsing-3.0.9:\n",
      "      Successfully uninstalled pyparsing-3.0.9\n",
      "  Attempting uninstall: kiwisolver\n",
      "    Found existing installation: kiwisolver 1.4.4\n",
      "    Uninstalling kiwisolver-1.4.4:\n",
      "      Successfully uninstalled kiwisolver-1.4.4\n",
      "  Attempting uninstall: cycler\n",
      "    Found existing installation: cycler 0.11.0\n",
      "    Uninstalling cycler-0.11.0:\n",
      "      Successfully uninstalled cycler-0.11.0\n",
      "  Attempting uninstall: chardet\n",
      "    Found existing installation: chardet 3.0.4\n",
      "    Uninstalling chardet-3.0.4:\n",
      "      Successfully uninstalled chardet-3.0.4\n",
      "Successfully installed certifi-2021.5.30 chardet-4.0.0 cycler-0.10.0 kiwisolver-1.3.1 pyparsing-2.4.7 python-dotenv-0.21.0 requests-2.28.1 requests-toolbelt-0.9.1 roboflow-0.2.14 urllib3-1.26.6 wget-3.2\n"
     ]
    },
    {
     "data": {
      "application/vnd.colab-display-data+json": {
       "pip_warning": {
        "packages": [
         "certifi",
         "chardet",
         "cycler",
         "kiwisolver",
         "pyparsing",
         "requests",
         "urllib3"
        ]
       }
      }
     },
     "metadata": {},
     "output_type": "display_data"
    },
    {
     "name": "stdout",
     "output_type": "stream",
     "text": [
      "loading Roboflow workspace...\n",
      "loading Roboflow project...\n",
      "Downloading Dataset Version Zip in maskdetection-3 to coco: 100% [6585143 / 6585143] bytes\n"
     ]
    },
    {
     "name": "stderr",
     "output_type": "stream",
     "text": [
      "Extracting Dataset Version Zip to maskdetection-3 in coco:: 100%|██████████| 2265/2265 [00:00<00:00, 2333.33it/s]\n"
     ]
    }
   ],
   "source": [
    "!pip install roboflow\n",
    "\n",
    "from roboflow import Roboflow\n",
    "\n",
    "rf = Roboflow(api_key=\"RLpF5qnVG3u4wi0Hgkmg\")\n",
    "project = rf.workspace(\"diza-febriyan-hasal\").project(\"maskdetection-tdrvn\")\n",
    "dataset = project.version(3).download(\"coco\")"
   ]
  },
  {
   "cell_type": "markdown",
   "metadata": {
    "id": "HS0xMhjq5rR7"
   },
   "source": [
    "# **[2.TRANSFORM DATASET]**\n",
    "menyimpan operasi pengambilan dataset dan fungsi transform dataset dari array image ke bentuk tensor\n"
   ]
  },
  {
   "cell_type": "markdown",
   "metadata": {
    "id": "LtilVxvWzeWS"
   },
   "source": [
    "    coc = COCO(os.path.join(dataset_path,\"train\",\"_annotations.coco.json\"))  \n",
    "-coc = memuat lokasi coco dataset kedalam sebuah format struktur data baru dengan fungsi COCO sebagai pembantu untuk mengakses data lebih mudah.\n",
    "\n",
    "    for i in categories.items():\n",
    "    classes.append(i[1][\"name\"])\n",
    "\n",
    "Melakukan import nama class atau objek anotasi kedalam sebuah variabel baru yaitu \"classes\""
   ]
  },
  {
   "cell_type": "code",
   "execution_count": 7,
   "metadata": {
    "colab": {
     "base_uri": "https://localhost:8080/"
    },
    "executionInfo": {
     "elapsed": 3,
     "status": "ok",
     "timestamp": 1662888350422,
     "user": {
      "displayName": "Diza Febriyan",
      "userId": "13111238588501847745"
     },
     "user_tz": -420
    },
    "id": "mQeD8rZkbvK9",
    "outputId": "d37ef570-31b5-4886-bfb1-43967c1ab8db"
   },
   "outputs": [
    {
     "name": "stdout",
     "output_type": "stream",
     "text": [
      "loading annotations into memory...\n",
      "Done (t=0.01s)\n",
      "creating index...\n",
      "index created!\n"
     ]
    }
   ],
   "source": [
    "# dataset_path=\"/content/drive/MyDrive/projectTA2/datasetcoco\"\n",
    "# coc = COCO(os.path.join(dataset_path, \"train\", \"_annotations.coco.json\")) ini code untuk akses via google drive\n",
    "dataset_path = \"/content/maskdetection-3\"\n",
    "coc = COCO(os.path.join(dataset_path, \"train\", \"_annotations.coco.json\"))\n",
    "categories = (\n",
    "    coc.cats\n",
    ")  # menyimpan kategori atau class suatu data seperti disini menyimpan data dengan nama objek yaitu Mask\n",
    "images = (\n",
    "    coc.imgs\n",
    ")  # menyimpan data data informasi mnengenai gambar seperti dibawah terdapat informasi nama, ukuran gambar dsbg\n",
    "annotations = (\n",
    "    coc.anns\n",
    ")  # menyimpan informasi mengenai nama data dan informasi mengenai label dalam suatu data\n",
    "n_classes = len(categories.keys())\n",
    "\n",
    "classes = []\n",
    "for i in categories.items():\n",
    "    classes.append(i[1][\"name\"])\n",
    "\n",
    "\n",
    "def get_albumentation():\n",
    "    transform = A.Compose([ToTensorV2()], bbox_params=A.BboxParams(format=\"coco\"))\n",
    "\n",
    "    return transform"
   ]
  },
  {
   "cell_type": "markdown",
   "metadata": {
    "id": "FeGJEKY96Gk-"
   },
   "source": [
    "#**3 [FUNGSI PREROCESSING DATA]**"
   ]
  },
  {
   "cell_type": "markdown",
   "metadata": {
    "id": "FNPEkpTSrh9Q"
   },
   "source": [
    "    def __init__ (self,root,split='train', transforms = None, target_transform=None):\n",
    "\n",
    "def \"init\" berfungsi untuk menginisiasi data kedalam sebuah variabel\n",
    "\n",
    "\n",
    "-root : lokasi dataset\n",
    "\n",
    "-split : informasi dataset apakah \"train\", \"valid\" atau \"test\"\n",
    "\n",
    "-transforms : menyimpan fungsi konversi suatu data kedalam format tensor\n",
    "\n",
    "-coco : fungsi mengimport COCO annotation file dan mempersiapkan structure data\n",
    "\n",
    "-ids : membuat list array informasi ID seluruh dataset sesuai dengan classnya (train/valid/test)\n",
    "\n",
    "    def _load_target(self, id):\n",
    "-mengimport anotasi atau boundingbox dataset citra\n",
    "\n",
    "    def __getitem__ (self,idx: int):\n",
    "\n",
    "-fungsi get item termasuk kedalam magic method, berfungsi untuk mengambil seluruh dataset coco dan memproses agar siap untuk di gunakan / di panggil\n",
    "\n",
    "penggunaan pemanggilan fungsi `train_dataset[1]` akan sama hasilnya dengan memanggil fungsi `train_dataset.__getitem__(1)`\n",
    "\n",
    "\n",
    "\n",
    "-penjelasan penggunaan fungsi getitem : \n",
    "\n",
    "1. https://stackoverflow.com/questions/43627405/understanding-getitem-method \n",
    "2. https://jagongoding.com/python/menengah/oop/magic-method/#:~:text=Fungsi%20__getitem__()%20adalah%20sebuah,diapit%20dengan%20kurung%20siku%20%5B%5D%20.\n",
    "\n",
    "\n",
    "    def __len__ (self):\n",
    "-mengetahui total dataset dalam sebuah class\n",
    "\n",
    "\n",
    "\n",
    "sumber : https://github.com/cocodataset/cocoapi/blob/master/PythonAPI/pycocotools/coco.py"
   ]
  },
  {
   "cell_type": "code",
   "execution_count": 8,
   "metadata": {
    "executionInfo": {
     "elapsed": 992,
     "status": "ok",
     "timestamp": 1662888354354,
     "user": {
      "displayName": "Diza Febriyan",
      "userId": "13111238588501847745"
     },
     "user_tz": -420
    },
    "id": "T3JpOzREbvK-"
   },
   "outputs": [],
   "source": [
    "class MaskDetection(datasets.VisionDataset):\n",
    "    def __init__(self, root, split=\"train\", transforms=None, target_transform=None):\n",
    "        self.root = root\n",
    "        self.split = split\n",
    "        self.transforms = transforms\n",
    "        self.coco = COCO(os.path.join(root, split, \"_annotations.coco.json\"))\n",
    "        self.ids = list(sorted(self.coco.imgs.keys()))\n",
    "\n",
    "    def _load_target(self, id):\n",
    "        return self.coco.loadAnns(self.coco.getAnnIds(id))\n",
    "\n",
    "    def __getitem__(self, idx: int):\n",
    "        id = self.ids[idx]\n",
    "        anotasi_img = self._load_target(idx)\n",
    "        anotasi_img = copy.deepcopy(self._load_target(idx))\n",
    "        imgpath = self.coco.loadImgs(id)[0][\"file_name\"]\n",
    "        image = cv.imread(os.path.join(self.root, self.split, imgpath))\n",
    "        image = cv.cvtColor(image, cv.COLOR_BGR2RGB)\n",
    "\n",
    "        num_objek = len(anotasi_img)\n",
    "\n",
    "        boxes = [t[\"bbox\"] + [t[\"category_id\"]] for t in anotasi_img]\n",
    "        if self.transforms is not None:\n",
    "            transformed = self.transforms(image=image, bboxes=boxes)\n",
    "\n",
    "        image = transformed[\"image\"]\n",
    "        boxes = transformed[\"bboxes\"]\n",
    "\n",
    "        # fungsi untuk memanggil data gambar dan memvisualisasikannya\n",
    "\n",
    "        boxes = []\n",
    "        for i in range(\n",
    "            num_objek\n",
    "        ):  # akan dilakukan perulangan jika objek di dalam satu gambar terdapat banyak atau lebih dari satu\n",
    "            xmin = anotasi_img[i][\"bbox\"][0]\n",
    "            ymin = anotasi_img[i][\"bbox\"][1]\n",
    "            xmax = xmin + anotasi_img[i][\"bbox\"][2]\n",
    "            ymax = ymin + anotasi_img[i][\"bbox\"][3]\n",
    "            boxes.append([xmin, ymin, xmax, ymax])\n",
    "\n",
    "        boxes = torch.as_tensor(boxes, dtype=torch.float32)\n",
    "        labels = torch.ones((num_objek,), dtype=torch.int64)\n",
    "\n",
    "        id = torch.tensor([id])\n",
    "\n",
    "        areas = []\n",
    "        for i in range(num_objek):\n",
    "            areas.append(anotasi_img[i][\"area\"])\n",
    "        areas = torch.as_tensor(areas, dtype=torch.float32)\n",
    "\n",
    "        iscrowd = torch.zeros((num_objek,), dtype=torch.float64)\n",
    "\n",
    "        my_annotation = {}\n",
    "        my_annotation[\"boxes\"] = boxes\n",
    "        my_annotation[\"labels\"] = labels\n",
    "        my_annotation[\"image_id\"] = id\n",
    "        my_annotation[\"area\"] = areas\n",
    "        my_annotation[\"iscrowd\"] = iscrowd\n",
    "        return image.div(255), my_annotation\n",
    "\n",
    "    def __len__(self):\n",
    "        return len(self.ids)"
   ]
  },
  {
   "cell_type": "markdown",
   "metadata": {
    "id": "LJBuz1DO6v6u"
   },
   "source": [
    "proses ini untuk memasukkan list index dataset kedalam sebuah variabel, dataset tersebut dibagi menjadi 3 yaitu \"train_dataset\" \"val_dataset\" dan \"test_dataset\""
   ]
  },
  {
   "cell_type": "code",
   "execution_count": 9,
   "metadata": {
    "colab": {
     "base_uri": "https://localhost:8080/"
    },
    "executionInfo": {
     "elapsed": 4,
     "status": "ok",
     "timestamp": 1662888356683,
     "user": {
      "displayName": "Diza Febriyan",
      "userId": "13111238588501847745"
     },
     "user_tz": -420
    },
    "id": "xmwRUMKAbvLA",
    "outputId": "49c5a4e2-cb18-4b0e-d27b-e7f896479d21"
   },
   "outputs": [
    {
     "name": "stdout",
     "output_type": "stream",
     "text": [
      "loading annotations into memory...\n",
      "Done (t=0.03s)\n",
      "creating index...\n",
      "index created!\n",
      "loading annotations into memory...\n",
      "Done (t=0.00s)\n",
      "creating index...\n",
      "index created!\n",
      "loading annotations into memory...\n",
      "Done (t=0.00s)\n",
      "creating index...\n",
      "index created!\n"
     ]
    }
   ],
   "source": [
    "train_dataset = MaskDetection(root=dataset_path, transforms=get_albumentation())\n",
    "val_dataset = MaskDetection(\n",
    "    root=dataset_path, split=\"valid\", transforms=get_albumentation()\n",
    ")\n",
    "test_dataset = MaskDetection(\n",
    "    root=dataset_path, split=\"test\", transforms=get_albumentation()\n",
    ")"
   ]
  },
  {
   "cell_type": "code",
   "execution_count": 10,
   "metadata": {
    "colab": {
     "base_uri": "https://localhost:8080/"
    },
    "executionInfo": {
     "elapsed": 3,
     "status": "ok",
     "timestamp": 1662888358135,
     "user": {
      "displayName": "Diza Febriyan",
      "userId": "13111238588501847745"
     },
     "user_tz": -420
    },
    "id": "Z7M-IF9bbvLA",
    "outputId": "bf16e55a-2a0a-4933-a227-003936288455"
   },
   "outputs": [
    {
     "data": {
      "text/plain": [
       "(1974, 188, 95)"
      ]
     },
     "execution_count": 10,
     "metadata": {},
     "output_type": "execute_result"
    }
   ],
   "source": [
    "len(train_dataset), len(val_dataset), len(\n",
    "    test_dataset\n",
    ")  # untuk memastikan panjang dataset sesuai dengan dataset kita"
   ]
  },
  {
   "cell_type": "markdown",
   "metadata": {
    "id": "3rfxcHD19w34"
   },
   "source": [
    "sample : menerima dataset untuk mencoba memvisualisasikan dataset apakah sesuai dengan dataset yang kita miliki.\n",
    "\n",
    "img_init : menormalisasi dataset\n",
    "\n",
    "\n",
    "sumber draw_bounding_boxes : https://www.tutorialspoint.com/how-to-draw-bounding-boxes-on-an-image-in-pytorch"
   ]
  },
  {
   "cell_type": "code",
   "execution_count": 11,
   "metadata": {
    "colab": {
     "base_uri": "https://localhost:8080/",
     "height": 286
    },
    "executionInfo": {
     "elapsed": 1464,
     "status": "ok",
     "timestamp": 1662888361253,
     "user": {
      "displayName": "Diza Febriyan",
      "userId": "13111238588501847745"
     },
     "user_tz": -420
    },
    "id": "abFU5ORc6elF",
    "outputId": "5f5cf505-7d3c-4244-dd2a-1004bee92b44"
   },
   "outputs": [
    {
     "data": {
      "text/plain": [
       "<matplotlib.image.AxesImage at 0x7f1e93f14810>"
      ]
     },
     "execution_count": 11,
     "metadata": {},
     "output_type": "execute_result"
    },
    {
     "data": {
      "image/png": "[encoded data removed]",
      "text/plain": [
       "<Figure size 432x288 with 1 Axes>"
      ]
     },
     "metadata": {
      "needs_background": "light"
     },
     "output_type": "display_data"
    }
   ],
   "source": [
    "sample = train_dataset[4]\n",
    "img_int = torch.tensor(sample[0] * 255, dtype=torch.uint8)\n",
    "plt.imshow(\n",
    "    draw_bounding_boxes(\n",
    "        img_int, sample[1][\"boxes\"], width=1, colors=(255, 0, 0), fill=True\n",
    "    ).permute(1, 2, 0)\n",
    ")"
   ]
  },
  {
   "cell_type": "markdown",
   "metadata": {
    "id": "nArzpnek6ibF"
   },
   "source": [
    "#**4 [MODEL DAN INISIASI TRAIN]**"
   ]
  },
  {
   "cell_type": "code",
   "execution_count": 12,
   "metadata": {
    "executionInfo": {
     "elapsed": 6,
     "status": "ok",
     "timestamp": 1662888361253,
     "user": {
      "displayName": "Diza Febriyan",
      "userId": "13111238588501847745"
     },
     "user_tz": -420
    },
    "id": "PSF4vH-pbvLC"
   },
   "outputs": [],
   "source": [
    "# FUNGSI PEMBUATAN BATCH DATASET\n",
    "def collate_fn(batch):\n",
    "    return tuple(zip(*batch))"
   ]
  },
  {
   "cell_type": "code",
   "execution_count": 13,
   "metadata": {
    "colab": {
     "base_uri": "https://localhost:8080/",
     "height": 67,
     "referenced_widgets": [
      "f37d3d7d91cf4840aeba2f6bd6364997",
      "6a545bbe13794e6b8d564d3d5bd08573",
      "4a8232349b04409682b38654317d3c44",
      "aca676cc5f404ef08bd9a7b3bfabac60",
      "c2957079c8f14f989f2088b16d09a2d7",
      "27dbc6bb4fad441e82176a620fb43d6e",
      "e5e0527522864a7294ecf7d365b8689e",
      "e3ec5f7a5a4942e7b047f2f3b0cca73e",
      "58d048db02304526882274d1d47341f8",
      "0952b80568df44149b38f4ff69e7e3a1",
      "1068f1f5f6394c10b27dc85d22532d69"
     ]
    },
    "executionInfo": {
     "elapsed": 3739,
     "status": "ok",
     "timestamp": 1662888366819,
     "user": {
      "displayName": "Diza Febriyan",
      "userId": "13111238588501847745"
     },
     "user_tz": -420
    },
    "id": "IAhT8o2abvLE",
    "outputId": "911ae723-05bd-4c02-ca72-84f74c9487d6"
   },
   "outputs": [
    {
     "name": "stderr",
     "output_type": "stream",
     "text": [
      "Downloading: \"https://download.pytorch.org/models/fasterrcnn_resnet50_fpn_coco-258fb6c6.pth\" to /root/.cache/torch/hub/checkpoints/fasterrcnn_resnet50_fpn_coco-258fb6c6.pth\n"
     ]
    },
    {
     "data": {
      "application/vnd.jupyter.widget-view+json": {
       "model_id": "f37d3d7d91cf4840aeba2f6bd6364997",
       "version_major": 2,
       "version_minor": 0
      },
      "text/plain": [
       "  0%|          | 0.00/160M [00:00<?, ?B/s]"
      ]
     },
     "metadata": {},
     "output_type": "display_data"
    }
   ],
   "source": [
    "model = torchvision.models.detection.fasterrcnn_resnet50_fpn(pretrained=True)\n",
    "in_features = model.roi_heads.box_predictor.cls_score.in_features\n",
    "model.roi_heads.box_predictor = (\n",
    "    torchvision.models.detection.faster_rcnn.FastRCNNPredictor(in_features, n_classes)\n",
    ")"
   ]
  },
  {
   "cell_type": "code",
   "execution_count": 14,
   "metadata": {
    "executionInfo": {
     "elapsed": 8,
     "status": "ok",
     "timestamp": 1662888366819,
     "user": {
      "displayName": "Diza Febriyan",
      "userId": "13111238588501847745"
     },
     "user_tz": -420
    },
    "id": "pdHGo8FxbvLF"
   },
   "outputs": [],
   "source": [
    "train_loader = torch.utils.data.DataLoader(\n",
    "    train_dataset, batch_size=4, shuffle=True, num_workers=4, collate_fn=collate_fn\n",
    ")\n",
    "val_loader = torch.utils.data.DataLoader(\n",
    "    val_dataset, batch_size=4, shuffle=False, num_workers=4, collate_fn=collate_fn\n",
    ")\n",
    "test_loader = torch.utils.data.DataLoader(\n",
    "    test_dataset, batch_size=4, shuffle=False, num_workers=4, collate_fn=collate_fn\n",
    ")"
   ]
  },
  {
   "cell_type": "markdown",
   "metadata": {
    "id": "OzlyPpCQha65"
   },
   "source": [
    "dijalankan untuk keperluan cobacoba"
   ]
  },
  {
   "cell_type": "code",
   "execution_count": 15,
   "metadata": {
    "colab": {
     "base_uri": "https://localhost:8080/"
    },
    "executionInfo": {
     "elapsed": 8,
     "status": "ok",
     "timestamp": 1662888366820,
     "user": {
      "displayName": "Diza Febriyan",
      "userId": "13111238588501847745"
     },
     "user_tz": -420
    },
    "id": "G8adY4czbvLF",
    "outputId": "8c92be24-694f-4934-9967-7f300149d02c"
   },
   "outputs": [
    {
     "data": {
      "text/plain": [
       "device(type='cuda')"
      ]
     },
     "execution_count": 15,
     "metadata": {},
     "output_type": "execute_result"
    }
   ],
   "source": [
    "device = torch.device(\"cuda\") if torch.cuda.is_available() else torch.device(\"cpu\")\n",
    "device"
   ]
  },
  {
   "cell_type": "code",
   "execution_count": 16,
   "metadata": {
    "colab": {
     "base_uri": "https://localhost:8080/"
    },
    "executionInfo": {
     "elapsed": 6,
     "status": "ok",
     "timestamp": 1662888368696,
     "user": {
      "displayName": "Diza Febriyan",
      "userId": "13111238588501847745"
     },
     "user_tz": -420
    },
    "id": "z3yTcXY2vLhX",
    "outputId": "3297092f-3a8b-4cd7-f409-7e2535c78514"
   },
   "outputs": [
    {
     "name": "stdout",
     "output_type": "stream",
     "text": [
      "Sun Sep 11 09:26:07 2022       \n",
      "+-----------------------------------------------------------------------------+\n",
      "| NVIDIA-SMI 460.32.03    Driver Version: 460.32.03    CUDA Version: 11.2     |\n",
      "|-------------------------------+----------------------+----------------------+\n",
      "| GPU  Name        Persistence-M| Bus-Id        Disp.A | Volatile Uncorr. ECC |\n",
      "| Fan  Temp  Perf  Pwr:Usage/Cap|         Memory-Usage | GPU-Util  Compute M. |\n",
      "|                               |                      |               MIG M. |\n",
      "|===============================+======================+======================|\n",
      "|   0  Tesla T4            Off  | 00000000:00:04.0 Off |                    0 |\n",
      "| N/A   36C    P8     9W /  70W |      3MiB / 15109MiB |      0%      Default |\n",
      "|                               |                      |                  N/A |\n",
      "+-------------------------------+----------------------+----------------------+\n",
      "                                                                               \n",
      "+-----------------------------------------------------------------------------+\n",
      "| Processes:                                                                  |\n",
      "|  GPU   GI   CI        PID   Type   Process name                  GPU Memory |\n",
      "|        ID   ID                                                   Usage      |\n",
      "|=============================================================================|\n",
      "|  No running processes found                                                 |\n",
      "+-----------------------------------------------------------------------------+\n"
     ]
    }
   ],
   "source": [
    "!nvidia-smi"
   ]
  },
  {
   "cell_type": "code",
   "execution_count": 17,
   "metadata": {
    "executionInfo": {
     "elapsed": 4063,
     "status": "ok",
     "timestamp": 1662888375071,
     "user": {
      "displayName": "Diza Febriyan",
      "userId": "13111238588501847745"
     },
     "user_tz": -420
    },
    "id": "9kyYFgk3bvLG"
   },
   "outputs": [],
   "source": [
    "model = model.to(device)"
   ]
  },
  {
   "cell_type": "code",
   "execution_count": 18,
   "metadata": {
    "executionInfo": {
     "elapsed": 13,
     "status": "ok",
     "timestamp": 1662888375072,
     "user": {
      "displayName": "Diza Febriyan",
      "userId": "13111238588501847745"
     },
     "user_tz": -420
    },
    "id": "313oEAIQ7iW0"
   },
   "outputs": [],
   "source": [
    "params = [p for p in model.parameters() if p.requires_grad]\n",
    "optimizer = torch.optim.SGD(\n",
    "    params, lr=0.01, momentum=0.9, nesterov=True, weight_decay=1e-4\n",
    ")\n",
    "\n",
    "# and a learning rate scheduler which decreases the learning rate by\n",
    "# 10x every 3 epochs\n",
    "lr_scheduler = torch.optim.lr_scheduler.MultiStepLR(\n",
    "    optimizer, milestones=[16, 22], gamma=0.1\n",
    ")"
   ]
  },
  {
   "cell_type": "code",
   "execution_count": 19,
   "metadata": {
    "executionInfo": {
     "elapsed": 2,
     "status": "ok",
     "timestamp": 1662888381982,
     "user": {
      "displayName": "Diza Febriyan",
      "userId": "13111238588501847745"
     },
     "user_tz": -420
    },
    "id": "OnQO43_-86o1"
   },
   "outputs": [],
   "source": [
    "# Fungsi animasi loading\n",
    "from tqdm import tqdm"
   ]
  },
  {
   "cell_type": "code",
   "execution_count": 20,
   "metadata": {
    "executionInfo": {
     "elapsed": 808,
     "status": "ok",
     "timestamp": 1662888393208,
     "user": {
      "displayName": "Diza Febriyan",
      "userId": "13111238588501847745"
     },
     "user_tz": -420
    },
    "id": "FAk3mT7CbvLK"
   },
   "outputs": [],
   "source": [
    "def train_one_epoch(model, optimizer, data_loader, device, epoch, print_freq):\n",
    "    model.to(device)\n",
    "    model.train()\n",
    "    header = \"Epoch: [{}]\".format(epoch)\n",
    "\n",
    "    lr_scheduler = None\n",
    "    if epoch == 0:\n",
    "        warmup_factor = 1.0 / 1000\n",
    "        warmup_iters = min(1000, len(data_loader) - 1)\n",
    "\n",
    "        lr_scheduler = torch.optim.lr_scheduler.LinearLR(\n",
    "            optimizer, start_factor=warmup_factor, total_iters=warmup_iters\n",
    "        )\n",
    "\n",
    "    all_losses = []\n",
    "    all_losses_dict = []\n",
    "\n",
    "    for images, targets in tqdm(data_loader):\n",
    "        images = list(image.to(device) for image in images)\n",
    "        targets = [\n",
    "            {k: torch.tensor(v).to(device) for k, v in t.items()} for t in targets\n",
    "        ]\n",
    "\n",
    "        loss_dict = model(images, targets)\n",
    "\n",
    "        losses = sum(loss for loss in loss_dict.values())\n",
    "\n",
    "        loss_dict_append = {k: v.item() for k, v in loss_dict.items()}\n",
    "        losses_reduced = sum(loss for loss in loss_dict.values())\n",
    "\n",
    "        loss_value = losses_reduced.item()\n",
    "\n",
    "        all_losses.append(loss_value)\n",
    "        all_losses_dict.append(loss_dict_append)\n",
    "\n",
    "        if not math.isfinite(loss_value):\n",
    "            print(\"Loss is {}, stopping training\".format(loss_value))\n",
    "            print(loss_dict)\n",
    "            sys.exit(1)\n",
    "\n",
    "        optimizer.zero_grad()\n",
    "        losses.backward()\n",
    "        optimizer.step()\n",
    "\n",
    "        if lr_scheduler is not None:\n",
    "            lr_scheduler.step()\n",
    "\n",
    "    all_losses_dict = pd.DataFrame(all_losses_dict)\n",
    "    print(\n",
    "        \"Epoch {}: lr: {:.6f} loss: {:.6f}, loss_classifier: {:.6f}, loss_box_reg: {:.6f}, loss_rpn_box_reg: {:6f}, loss_objectness: {:.6f}\".format(\n",
    "            epoch,\n",
    "            optimizer.param_groups[0][\"lr\"],\n",
    "            np.mean(all_losses),\n",
    "            all_losses_dict[\"loss_classifier\"].mean(),\n",
    "            all_losses_dict[\"loss_box_reg\"].mean(),\n",
    "            all_losses_dict[\"loss_rpn_box_reg\"].mean(),\n",
    "            all_losses_dict[\"loss_objectness\"].mean(),\n",
    "        )\n",
    "    )"
   ]
  },
  {
   "cell_type": "code",
   "execution_count": 21,
   "metadata": {
    "colab": {
     "base_uri": "https://localhost:8080/"
    },
    "executionInfo": {
     "elapsed": 4900513,
     "status": "ok",
     "timestamp": 1662893296491,
     "user": {
      "displayName": "Diza Febriyan",
      "userId": "13111238588501847745"
     },
     "user_tz": -420
    },
    "id": "w33xoIF7E9kB",
    "outputId": "fb623d44-2986-427a-a4c4-434f956906b5"
   },
   "outputs": [
    {
     "name": "stderr",
     "output_type": "stream",
     "text": [
      "100%|██████████| 494/494 [08:04<00:00,  1.02it/s]\n"
     ]
    },
    {
     "name": "stdout",
     "output_type": "stream",
     "text": [
      "Epoch 0: lr: 0.010000 loss: 0.111850, loss_classifier: 0.044652, loss_box_reg: 0.062054, loss_rpn_box_reg: 0.002085, loss_objectness: 0.003059\n"
     ]
    },
    {
     "name": "stderr",
     "output_type": "stream",
     "text": [
      "100%|██████████| 494/494 [08:10<00:00,  1.01it/s]\n"
     ]
    },
    {
     "name": "stdout",
     "output_type": "stream",
     "text": [
      "Epoch 1: lr: 0.010000 loss: 0.040389, loss_classifier: 0.012205, loss_box_reg: 0.027116, loss_rpn_box_reg: 0.000733, loss_objectness: 0.000335\n"
     ]
    },
    {
     "name": "stderr",
     "output_type": "stream",
     "text": [
      "100%|██████████| 494/494 [08:11<00:00,  1.01it/s]\n"
     ]
    },
    {
     "name": "stdout",
     "output_type": "stream",
     "text": [
      "Epoch 2: lr: 0.010000 loss: 0.027464, loss_classifier: 0.009031, loss_box_reg: 0.017793, loss_rpn_box_reg: 0.000487, loss_objectness: 0.000153\n"
     ]
    },
    {
     "name": "stderr",
     "output_type": "stream",
     "text": [
      "100%|██████████| 494/494 [08:10<00:00,  1.01it/s]\n"
     ]
    },
    {
     "name": "stdout",
     "output_type": "stream",
     "text": [
      "Epoch 3: lr: 0.010000 loss: 0.021208, loss_classifier: 0.007349, loss_box_reg: 0.013337, loss_rpn_box_reg: 0.000373, loss_objectness: 0.000149\n"
     ]
    },
    {
     "name": "stderr",
     "output_type": "stream",
     "text": [
      "100%|██████████| 494/494 [08:10<00:00,  1.01it/s]\n"
     ]
    },
    {
     "name": "stdout",
     "output_type": "stream",
     "text": [
      "Epoch 4: lr: 0.010000 loss: 0.017407, loss_classifier: 0.006270, loss_box_reg: 0.010747, loss_rpn_box_reg: 0.000305, loss_objectness: 0.000086\n"
     ]
    },
    {
     "name": "stderr",
     "output_type": "stream",
     "text": [
      "100%|██████████| 494/494 [08:11<00:00,  1.01it/s]\n"
     ]
    },
    {
     "name": "stdout",
     "output_type": "stream",
     "text": [
      "Epoch 5: lr: 0.010000 loss: 0.014476, loss_classifier: 0.005439, loss_box_reg: 0.008716, loss_rpn_box_reg: 0.000255, loss_objectness: 0.000066\n"
     ]
    },
    {
     "name": "stderr",
     "output_type": "stream",
     "text": [
      "100%|██████████| 494/494 [08:10<00:00,  1.01it/s]\n"
     ]
    },
    {
     "name": "stdout",
     "output_type": "stream",
     "text": [
      "Epoch 6: lr: 0.010000 loss: 0.012766, loss_classifier: 0.005071, loss_box_reg: 0.007401, loss_rpn_box_reg: 0.000222, loss_objectness: 0.000072\n"
     ]
    },
    {
     "name": "stderr",
     "output_type": "stream",
     "text": [
      "100%|██████████| 494/494 [08:10<00:00,  1.01it/s]\n"
     ]
    },
    {
     "name": "stdout",
     "output_type": "stream",
     "text": [
      "Epoch 7: lr: 0.010000 loss: 0.011216, loss_classifier: 0.004694, loss_box_reg: 0.006271, loss_rpn_box_reg: 0.000201, loss_objectness: 0.000051\n"
     ]
    },
    {
     "name": "stderr",
     "output_type": "stream",
     "text": [
      "100%|██████████| 494/494 [08:10<00:00,  1.01it/s]\n"
     ]
    },
    {
     "name": "stdout",
     "output_type": "stream",
     "text": [
      "Epoch 8: lr: 0.010000 loss: 0.009974, loss_classifier: 0.004286, loss_box_reg: 0.005469, loss_rpn_box_reg: 0.000180, loss_objectness: 0.000040\n"
     ]
    },
    {
     "name": "stderr",
     "output_type": "stream",
     "text": [
      "100%|██████████| 494/494 [08:09<00:00,  1.01it/s]"
     ]
    },
    {
     "name": "stdout",
     "output_type": "stream",
     "text": [
      "Epoch 9: lr: 0.010000 loss: 0.008977, loss_classifier: 0.004022, loss_box_reg: 0.004736, loss_rpn_box_reg: 0.000164, loss_objectness: 0.000056\n"
     ]
    },
    {
     "name": "stderr",
     "output_type": "stream",
     "text": [
      "\n"
     ]
    }
   ],
   "source": [
    "num_epochs = 10\n",
    "\n",
    "for epoch in range(num_epochs):\n",
    "    train_one_epoch(model, optimizer, train_loader, device, epoch, print_freq=28)\n",
    "    lr_scheduler.step()"
   ]
  },
  {
   "cell_type": "code",
   "execution_count": 22,
   "metadata": {
    "executionInfo": {
     "elapsed": 1012,
     "status": "ok",
     "timestamp": 1662893360202,
     "user": {
      "displayName": "Diza Febriyan",
      "userId": "13111238588501847745"
     },
     "user_tz": -420
    },
    "id": "iNG2_VsNFBip"
   },
   "outputs": [],
   "source": [
    "model.eval()\n",
    "torch.cuda.empty_cache()"
   ]
  },
  {
   "cell_type": "code",
   "execution_count": 31,
   "metadata": {
    "colab": {
     "base_uri": "https://localhost:8080/"
    },
    "executionInfo": {
     "elapsed": 1039,
     "status": "ok",
     "timestamp": 1662893642120,
     "user": {
      "displayName": "Diza Febriyan",
      "userId": "13111238588501847745"
     },
     "user_tz": -420
    },
    "id": "CrbgtoH1GrTY",
    "outputId": "57568715-25ce-45d8-c0c6-04eb5edbfaac"
   },
   "outputs": [
    {
     "name": "stdout",
     "output_type": "stream",
     "text": [
      "<class 'dict'>\n",
      "<class 'torch.Tensor'>\n",
      "tensor([1.0000], device='cuda:0')\n"
     ]
    }
   ],
   "source": [
    "dataset = 23\n",
    "testing = test_dataset[dataset]\n",
    "img, _ = test_dataset[dataset]\n",
    "img_int = torch.tensor(img * 255, dtype=torch.uint8)\n",
    "with torch.no_grad():\n",
    "    prediction = model([img.to(device)])\n",
    "    pred = prediction[0]\n",
    "    print(pred[\"scores\"])"
   ]
  },
  {
   "cell_type": "code",
   "execution_count": 37,
   "metadata": {
    "colab": {
     "base_uri": "https://localhost:8080/",
     "height": 610
    },
    "executionInfo": {
     "elapsed": 6,
     "status": "ok",
     "timestamp": 1662893978710,
     "user": {
      "displayName": "Diza Febriyan",
      "userId": "13111238588501847745"
     },
     "user_tz": -420
    },
    "id": "DTnGxNCAGs-g",
    "outputId": "3c2ad645-a17a-4376-c0ee-09913dde357d"
   },
   "outputs": [
    {
     "data": {
      "text/plain": [
       "<matplotlib.image.AxesImage at 0x7f1ddd2dd9d0>"
      ]
     },
     "execution_count": 37,
     "metadata": {},
     "output_type": "execute_result"
    },
    {
     "data": {
      "image/png": "[encoded data removed]",
      "text/plain": [
       "<Figure size 1008x720 with 1 Axes>"
      ]
     },
     "metadata": {
      "needs_background": "light"
     },
     "output_type": "display_data"
    }
   ],
   "source": [
    "fig = plt.figure(figsize=(14, 10))\n",
    "# plt.imshow(draw_bounding_boxes(img_int,\n",
    "#                                pred['boxes'][pred['scores'] > 0.8],\n",
    "#                                [classes[i] for i in pred['labels'][pred['scores'] > 0.8].tolist()],\n",
    "#                                width=1).permute(1, 2, 0)\n",
    "#           )\n",
    "\n",
    "plt.imshow(\n",
    "    draw_bounding_boxes(\n",
    "        img_int, pred[\"boxes\"][pred[\"scores\"] > 0.8], width=1, colors=(255, 0, 0)\n",
    "    ).permute(1, 2, 0)\n",
    ")"
   ]
  },
  {
   "cell_type": "code",
   "execution_count": 38,
   "metadata": {
    "executionInfo": {
     "elapsed": 604,
     "status": "ok",
     "timestamp": 1662893987719,
     "user": {
      "displayName": "Diza Febriyan",
      "userId": "13111238588501847745"
     },
     "user_tz": -420
    },
    "id": "JuOHQtDzG0oZ"
   },
   "outputs": [],
   "source": [
    "torch.save(model, \"test.pt\")"
   ]
  },
  {
   "cell_type": "code",
   "execution_count": 39,
   "metadata": {
    "executionInfo": {
     "elapsed": 3,
     "status": "ok",
     "timestamp": 1662893988252,
     "user": {
      "displayName": "Diza Febriyan",
      "userId": "13111238588501847745"
     },
     "user_tz": -420
    },
    "id": "ZD6OBGU3XFun"
   },
   "outputs": [],
   "source": [
    "##testing object detection"
   ]
  },
  {
   "cell_type": "code",
   "execution_count": 40,
   "metadata": {
    "colab": {
     "base_uri": "https://localhost:8080/"
    },
    "executionInfo": {
     "elapsed": 4,
     "status": "ok",
     "timestamp": 1662893988253,
     "user": {
      "displayName": "Diza Febriyan",
      "userId": "13111238588501847745"
     },
     "user_tz": -420
    },
    "id": "g48DMFtAdkd8",
    "outputId": "bb938b17-764c-4929-e01a-015b43241f18"
   },
   "outputs": [
    {
     "data": {
      "text/plain": [
       "FasterRCNN(\n",
       "  (transform): GeneralizedRCNNTransform(\n",
       "      Normalize(mean=[0.485, 0.456, 0.406], std=[0.229, 0.224, 0.225])\n",
       "      Resize(min_size=(800,), max_size=1333, mode='bilinear')\n",
       "  )\n",
       "  (backbone): BackboneWithFPN(\n",
       "    (body): IntermediateLayerGetter(\n",
       "      (conv1): Conv2d(3, 64, kernel_size=(7, 7), stride=(2, 2), padding=(3, 3), bias=False)\n",
       "      (bn1): FrozenBatchNorm2d(64, eps=0.0)\n",
       "      (relu): ReLU(inplace=True)\n",
       "      (maxpool): MaxPool2d(kernel_size=3, stride=2, padding=1, dilation=1, ceil_mode=False)\n",
       "      (layer1): Sequential(\n",
       "        (0): Bottleneck(\n",
       "          (conv1): Conv2d(64, 64, kernel_size=(1, 1), stride=(1, 1), bias=False)\n",
       "          (bn1): FrozenBatchNorm2d(64, eps=0.0)\n",
       "          (conv2): Conv2d(64, 64, kernel_size=(3, 3), stride=(1, 1), padding=(1, 1), bias=False)\n",
       "          (bn2): FrozenBatchNorm2d(64, eps=0.0)\n",
       "          (conv3): Conv2d(64, 256, kernel_size=(1, 1), stride=(1, 1), bias=False)\n",
       "          (bn3): FrozenBatchNorm2d(256, eps=0.0)\n",
       "          (relu): ReLU(inplace=True)\n",
       "          (downsample): Sequential(\n",
       "            (0): Conv2d(64, 256, kernel_size=(1, 1), stride=(1, 1), bias=False)\n",
       "            (1): FrozenBatchNorm2d(256, eps=0.0)\n",
       "          )\n",
       "        )\n",
       "        (1): Bottleneck(\n",
       "          (conv1): Conv2d(256, 64, kernel_size=(1, 1), stride=(1, 1), bias=False)\n",
       "          (bn1): FrozenBatchNorm2d(64, eps=0.0)\n",
       "          (conv2): Conv2d(64, 64, kernel_size=(3, 3), stride=(1, 1), padding=(1, 1), bias=False)\n",
       "          (bn2): FrozenBatchNorm2d(64, eps=0.0)\n",
       "          (conv3): Conv2d(64, 256, kernel_size=(1, 1), stride=(1, 1), bias=False)\n",
       "          (bn3): FrozenBatchNorm2d(256, eps=0.0)\n",
       "          (relu): ReLU(inplace=True)\n",
       "        )\n",
       "        (2): Bottleneck(\n",
       "          (conv1): Conv2d(256, 64, kernel_size=(1, 1), stride=(1, 1), bias=False)\n",
       "          (bn1): FrozenBatchNorm2d(64, eps=0.0)\n",
       "          (conv2): Conv2d(64, 64, kernel_size=(3, 3), stride=(1, 1), padding=(1, 1), bias=False)\n",
       "          (bn2): FrozenBatchNorm2d(64, eps=0.0)\n",
       "          (conv3): Conv2d(64, 256, kernel_size=(1, 1), stride=(1, 1), bias=False)\n",
       "          (bn3): FrozenBatchNorm2d(256, eps=0.0)\n",
       "          (relu): ReLU(inplace=True)\n",
       "        )\n",
       "      )\n",
       "      (layer2): Sequential(\n",
       "        (0): Bottleneck(\n",
       "          (conv1): Conv2d(256, 128, kernel_size=(1, 1), stride=(1, 1), bias=False)\n",
       "          (bn1): FrozenBatchNorm2d(128, eps=0.0)\n",
       "          (conv2): Conv2d(128, 128, kernel_size=(3, 3), stride=(2, 2), padding=(1, 1), bias=False)\n",
       "          (bn2): FrozenBatchNorm2d(128, eps=0.0)\n",
       "          (conv3): Conv2d(128, 512, kernel_size=(1, 1), stride=(1, 1), bias=False)\n",
       "          (bn3): FrozenBatchNorm2d(512, eps=0.0)\n",
       "          (relu): ReLU(inplace=True)\n",
       "          (downsample): Sequential(\n",
       "            (0): Conv2d(256, 512, kernel_size=(1, 1), stride=(2, 2), bias=False)\n",
       "            (1): FrozenBatchNorm2d(512, eps=0.0)\n",
       "          )\n",
       "        )\n",
       "        (1): Bottleneck(\n",
       "          (conv1): Conv2d(512, 128, kernel_size=(1, 1), stride=(1, 1), bias=False)\n",
       "          (bn1): FrozenBatchNorm2d(128, eps=0.0)\n",
       "          (conv2): Conv2d(128, 128, kernel_size=(3, 3), stride=(1, 1), padding=(1, 1), bias=False)\n",
       "          (bn2): FrozenBatchNorm2d(128, eps=0.0)\n",
       "          (conv3): Conv2d(128, 512, kernel_size=(1, 1), stride=(1, 1), bias=False)\n",
       "          (bn3): FrozenBatchNorm2d(512, eps=0.0)\n",
       "          (relu): ReLU(inplace=True)\n",
       "        )\n",
       "        (2): Bottleneck(\n",
       "          (conv1): Conv2d(512, 128, kernel_size=(1, 1), stride=(1, 1), bias=False)\n",
       "          (bn1): FrozenBatchNorm2d(128, eps=0.0)\n",
       "          (conv2): Conv2d(128, 128, kernel_size=(3, 3), stride=(1, 1), padding=(1, 1), bias=False)\n",
       "          (bn2): FrozenBatchNorm2d(128, eps=0.0)\n",
       "          (conv3): Conv2d(128, 512, kernel_size=(1, 1), stride=(1, 1), bias=False)\n",
       "          (bn3): FrozenBatchNorm2d(512, eps=0.0)\n",
       "          (relu): ReLU(inplace=True)\n",
       "        )\n",
       "        (3): Bottleneck(\n",
       "          (conv1): Conv2d(512, 128, kernel_size=(1, 1), stride=(1, 1), bias=False)\n",
       "          (bn1): FrozenBatchNorm2d(128, eps=0.0)\n",
       "          (conv2): Conv2d(128, 128, kernel_size=(3, 3), stride=(1, 1), padding=(1, 1), bias=False)\n",
       "          (bn2): FrozenBatchNorm2d(128, eps=0.0)\n",
       "          (conv3): Conv2d(128, 512, kernel_size=(1, 1), stride=(1, 1), bias=False)\n",
       "          (bn3): FrozenBatchNorm2d(512, eps=0.0)\n",
       "          (relu): ReLU(inplace=True)\n",
       "        )\n",
       "      )\n",
       "      (layer3): Sequential(\n",
       "        (0): Bottleneck(\n",
       "          (conv1): Conv2d(512, 256, kernel_size=(1, 1), stride=(1, 1), bias=False)\n",
       "          (bn1): FrozenBatchNorm2d(256, eps=0.0)\n",
       "          (conv2): Conv2d(256, 256, kernel_size=(3, 3), stride=(2, 2), padding=(1, 1), bias=False)\n",
       "          (bn2): FrozenBatchNorm2d(256, eps=0.0)\n",
       "          (conv3): Conv2d(256, 1024, kernel_size=(1, 1), stride=(1, 1), bias=False)\n",
       "          (bn3): FrozenBatchNorm2d(1024, eps=0.0)\n",
       "          (relu): ReLU(inplace=True)\n",
       "          (downsample): Sequential(\n",
       "            (0): Conv2d(512, 1024, kernel_size=(1, 1), stride=(2, 2), bias=False)\n",
       "            (1): FrozenBatchNorm2d(1024, eps=0.0)\n",
       "          )\n",
       "        )\n",
       "        (1): Bottleneck(\n",
       "          (conv1): Conv2d(1024, 256, kernel_size=(1, 1), stride=(1, 1), bias=False)\n",
       "          (bn1): FrozenBatchNorm2d(256, eps=0.0)\n",
       "          (conv2): Conv2d(256, 256, kernel_size=(3, 3), stride=(1, 1), padding=(1, 1), bias=False)\n",
       "          (bn2): FrozenBatchNorm2d(256, eps=0.0)\n",
       "          (conv3): Conv2d(256, 1024, kernel_size=(1, 1), stride=(1, 1), bias=False)\n",
       "          (bn3): FrozenBatchNorm2d(1024, eps=0.0)\n",
       "          (relu): ReLU(inplace=True)\n",
       "        )\n",
       "        (2): Bottleneck(\n",
       "          (conv1): Conv2d(1024, 256, kernel_size=(1, 1), stride=(1, 1), bias=False)\n",
       "          (bn1): FrozenBatchNorm2d(256, eps=0.0)\n",
       "          (conv2): Conv2d(256, 256, kernel_size=(3, 3), stride=(1, 1), padding=(1, 1), bias=False)\n",
       "          (bn2): FrozenBatchNorm2d(256, eps=0.0)\n",
       "          (conv3): Conv2d(256, 1024, kernel_size=(1, 1), stride=(1, 1), bias=False)\n",
       "          (bn3): FrozenBatchNorm2d(1024, eps=0.0)\n",
       "          (relu): ReLU(inplace=True)\n",
       "        )\n",
       "        (3): Bottleneck(\n",
       "          (conv1): Conv2d(1024, 256, kernel_size=(1, 1), stride=(1, 1), bias=False)\n",
       "          (bn1): FrozenBatchNorm2d(256, eps=0.0)\n",
       "          (conv2): Conv2d(256, 256, kernel_size=(3, 3), stride=(1, 1), padding=(1, 1), bias=False)\n",
       "          (bn2): FrozenBatchNorm2d(256, eps=0.0)\n",
       "          (conv3): Conv2d(256, 1024, kernel_size=(1, 1), stride=(1, 1), bias=False)\n",
       "          (bn3): FrozenBatchNorm2d(1024, eps=0.0)\n",
       "          (relu): ReLU(inplace=True)\n",
       "        )\n",
       "        (4): Bottleneck(\n",
       "          (conv1): Conv2d(1024, 256, kernel_size=(1, 1), stride=(1, 1), bias=False)\n",
       "          (bn1): FrozenBatchNorm2d(256, eps=0.0)\n",
       "          (conv2): Conv2d(256, 256, kernel_size=(3, 3), stride=(1, 1), padding=(1, 1), bias=False)\n",
       "          (bn2): FrozenBatchNorm2d(256, eps=0.0)\n",
       "          (conv3): Conv2d(256, 1024, kernel_size=(1, 1), stride=(1, 1), bias=False)\n",
       "          (bn3): FrozenBatchNorm2d(1024, eps=0.0)\n",
       "          (relu): ReLU(inplace=True)\n",
       "        )\n",
       "        (5): Bottleneck(\n",
       "          (conv1): Conv2d(1024, 256, kernel_size=(1, 1), stride=(1, 1), bias=False)\n",
       "          (bn1): FrozenBatchNorm2d(256, eps=0.0)\n",
       "          (conv2): Conv2d(256, 256, kernel_size=(3, 3), stride=(1, 1), padding=(1, 1), bias=False)\n",
       "          (bn2): FrozenBatchNorm2d(256, eps=0.0)\n",
       "          (conv3): Conv2d(256, 1024, kernel_size=(1, 1), stride=(1, 1), bias=False)\n",
       "          (bn3): FrozenBatchNorm2d(1024, eps=0.0)\n",
       "          (relu): ReLU(inplace=True)\n",
       "        )\n",
       "      )\n",
       "      (layer4): Sequential(\n",
       "        (0): Bottleneck(\n",
       "          (conv1): Conv2d(1024, 512, kernel_size=(1, 1), stride=(1, 1), bias=False)\n",
       "          (bn1): FrozenBatchNorm2d(512, eps=0.0)\n",
       "          (conv2): Conv2d(512, 512, kernel_size=(3, 3), stride=(2, 2), padding=(1, 1), bias=False)\n",
       "          (bn2): FrozenBatchNorm2d(512, eps=0.0)\n",
       "          (conv3): Conv2d(512, 2048, kernel_size=(1, 1), stride=(1, 1), bias=False)\n",
       "          (bn3): FrozenBatchNorm2d(2048, eps=0.0)\n",
       "          (relu): ReLU(inplace=True)\n",
       "          (downsample): Sequential(\n",
       "            (0): Conv2d(1024, 2048, kernel_size=(1, 1), stride=(2, 2), bias=False)\n",
       "            (1): FrozenBatchNorm2d(2048, eps=0.0)\n",
       "          )\n",
       "        )\n",
       "        (1): Bottleneck(\n",
       "          (conv1): Conv2d(2048, 512, kernel_size=(1, 1), stride=(1, 1), bias=False)\n",
       "          (bn1): FrozenBatchNorm2d(512, eps=0.0)\n",
       "          (conv2): Conv2d(512, 512, kernel_size=(3, 3), stride=(1, 1), padding=(1, 1), bias=False)\n",
       "          (bn2): FrozenBatchNorm2d(512, eps=0.0)\n",
       "          (conv3): Conv2d(512, 2048, kernel_size=(1, 1), stride=(1, 1), bias=False)\n",
       "          (bn3): FrozenBatchNorm2d(2048, eps=0.0)\n",
       "          (relu): ReLU(inplace=True)\n",
       "        )\n",
       "        (2): Bottleneck(\n",
       "          (conv1): Conv2d(2048, 512, kernel_size=(1, 1), stride=(1, 1), bias=False)\n",
       "          (bn1): FrozenBatchNorm2d(512, eps=0.0)\n",
       "          (conv2): Conv2d(512, 512, kernel_size=(3, 3), stride=(1, 1), padding=(1, 1), bias=False)\n",
       "          (bn2): FrozenBatchNorm2d(512, eps=0.0)\n",
       "          (conv3): Conv2d(512, 2048, kernel_size=(1, 1), stride=(1, 1), bias=False)\n",
       "          (bn3): FrozenBatchNorm2d(2048, eps=0.0)\n",
       "          (relu): ReLU(inplace=True)\n",
       "        )\n",
       "      )\n",
       "    )\n",
       "    (fpn): FeaturePyramidNetwork(\n",
       "      (inner_blocks): ModuleList(\n",
       "        (0): Conv2dNormActivation(\n",
       "          (0): Conv2d(256, 256, kernel_size=(1, 1), stride=(1, 1))\n",
       "        )\n",
       "        (1): Conv2dNormActivation(\n",
       "          (0): Conv2d(512, 256, kernel_size=(1, 1), stride=(1, 1))\n",
       "        )\n",
       "        (2): Conv2dNormActivation(\n",
       "          (0): Conv2d(1024, 256, kernel_size=(1, 1), stride=(1, 1))\n",
       "        )\n",
       "        (3): Conv2dNormActivation(\n",
       "          (0): Conv2d(2048, 256, kernel_size=(1, 1), stride=(1, 1))\n",
       "        )\n",
       "      )\n",
       "      (layer_blocks): ModuleList(\n",
       "        (0): Conv2dNormActivation(\n",
       "          (0): Conv2d(256, 256, kernel_size=(3, 3), stride=(1, 1), padding=(1, 1))\n",
       "        )\n",
       "        (1): Conv2dNormActivation(\n",
       "          (0): Conv2d(256, 256, kernel_size=(3, 3), stride=(1, 1), padding=(1, 1))\n",
       "        )\n",
       "        (2): Conv2dNormActivation(\n",
       "          (0): Conv2d(256, 256, kernel_size=(3, 3), stride=(1, 1), padding=(1, 1))\n",
       "        )\n",
       "        (3): Conv2dNormActivation(\n",
       "          (0): Conv2d(256, 256, kernel_size=(3, 3), stride=(1, 1), padding=(1, 1))\n",
       "        )\n",
       "      )\n",
       "      (extra_blocks): LastLevelMaxPool()\n",
       "    )\n",
       "  )\n",
       "  (rpn): RegionProposalNetwork(\n",
       "    (anchor_generator): AnchorGenerator()\n",
       "    (head): RPNHead(\n",
       "      (conv): Sequential(\n",
       "        (0): Conv2dNormActivation(\n",
       "          (0): Conv2d(256, 256, kernel_size=(3, 3), stride=(1, 1), padding=(1, 1))\n",
       "          (1): ReLU(inplace=True)\n",
       "        )\n",
       "      )\n",
       "      (cls_logits): Conv2d(256, 3, kernel_size=(1, 1), stride=(1, 1))\n",
       "      (bbox_pred): Conv2d(256, 12, kernel_size=(1, 1), stride=(1, 1))\n",
       "    )\n",
       "  )\n",
       "  (roi_heads): RoIHeads(\n",
       "    (box_roi_pool): MultiScaleRoIAlign(featmap_names=['0', '1', '2', '3'], output_size=(7, 7), sampling_ratio=2)\n",
       "    (box_head): TwoMLPHead(\n",
       "      (fc6): Linear(in_features=12544, out_features=1024, bias=True)\n",
       "      (fc7): Linear(in_features=1024, out_features=1024, bias=True)\n",
       "    )\n",
       "    (box_predictor): FastRCNNPredictor(\n",
       "      (cls_score): Linear(in_features=1024, out_features=2, bias=True)\n",
       "      (bbox_pred): Linear(in_features=1024, out_features=8, bias=True)\n",
       "    )\n",
       "  )\n",
       ")"
      ]
     },
     "execution_count": 40,
     "metadata": {},
     "output_type": "execute_result"
    }
   ],
   "source": [
    "obj = torch.load(\"test.pt\")\n",
    "obj.eval()"
   ]
  },
  {
   "cell_type": "code",
   "execution_count": 41,
   "metadata": {
    "colab": {
     "base_uri": "https://localhost:8080/"
    },
    "executionInfo": {
     "elapsed": 3,
     "status": "ok",
     "timestamp": 1662893991022,
     "user": {
      "displayName": "Diza Febriyan",
      "userId": "13111238588501847745"
     },
     "user_tz": -420
    },
    "id": "1YxfArpEdn9U",
    "outputId": "8b2dd4ac-6217-4752-c8bd-bd64b0f90873"
   },
   "outputs": [
    {
     "name": "stdout",
     "output_type": "stream",
     "text": [
      "{'boxes': tensor([[27.2408, 32.4890, 52.3299, 49.1998]], device='cuda:0'), 'labels': tensor([1], device='cuda:0'), 'scores': tensor([1.0000], device='cuda:0')}\n"
     ]
    }
   ],
   "source": [
    "img, _ = test_dataset[23]\n",
    "img_int = torch.tensor(img * 255, dtype=torch.uint8)\n",
    "with torch.no_grad():\n",
    "    prediction = obj([img.to(device)])\n",
    "    pred = prediction[0]\n",
    "print(pred)"
   ]
  },
  {
   "cell_type": "code",
   "execution_count": 42,
   "metadata": {
    "colab": {
     "base_uri": "https://localhost:8080/",
     "height": 610
    },
    "executionInfo": {
     "elapsed": 652,
     "status": "ok",
     "timestamp": 1662893994841,
     "user": {
      "displayName": "Diza Febriyan",
      "userId": "13111238588501847745"
     },
     "user_tz": -420
    },
    "id": "INBYdJTEgC5r",
    "outputId": "353e607e-d58a-4a02-d032-0fd7fe2a5551"
   },
   "outputs": [
    {
     "data": {
      "text/plain": [
       "<matplotlib.image.AxesImage at 0x7f1ddd1d6fd0>"
      ]
     },
     "execution_count": 42,
     "metadata": {},
     "output_type": "execute_result"
    },
    {
     "data": {
      "image/png": "[encoded data removed]",
      "text/plain": [
       "<Figure size 1008x720 with 1 Axes>"
      ]
     },
     "metadata": {
      "needs_background": "light"
     },
     "output_type": "display_data"
    }
   ],
   "source": [
    "fig = plt.figure(figsize=(14, 10))\n",
    "plt.imshow(\n",
    "    draw_bounding_boxes(img_int, pred[\"boxes\"][pred[\"scores\"] > 0.8], width=1).permute(\n",
    "        1, 2, 0\n",
    "    )\n",
    ")"
   ]
  },
  {
   "cell_type": "code",
   "execution_count": 42,
   "metadata": {
    "executionInfo": {
     "elapsed": 711,
     "status": "ok",
     "timestamp": 1662894000972,
     "user": {
      "displayName": "Diza Febriyan",
      "userId": "13111238588501847745"
     },
     "user_tz": -420
    },
    "id": "lIJnQckXgJEy"
   },
   "outputs": [],
   "source": []
  },
  {
   "cell_type": "code",
   "execution_count": 43,
   "metadata": {
    "colab": {
     "base_uri": "https://localhost:8080/"
    },
    "executionInfo": {
     "elapsed": 3,
     "status": "ok",
     "timestamp": 1662894002001,
     "user": {
      "displayName": "Diza Febriyan",
      "userId": "13111238588501847745"
     },
     "user_tz": -420
    },
    "id": "iQSK6_iockvm",
    "outputId": "7949a4a3-7c8c-4364-c356-50daa1fa3d7e"
   },
   "outputs": [
    {
     "name": "stdout",
     "output_type": "stream",
     "text": [
      "tensor([[29.0000, 32.0000, 52.0600, 49.2200]])\n",
      "[[29.   32.   52.06 49.22]]\n",
      "tensor([[27.2408, 32.4890, 52.3299, 49.1998]], device='cuda:0')\n",
      "[[27.240816 32.48901  52.32989  49.199802]]\n"
     ]
    }
   ],
   "source": [
    "dataset = 23\n",
    "testing = test_dataset[dataset]\n",
    "print(testing[1][\"boxes\"])\n",
    "a = testing[1][\"boxes\"].numpy()\n",
    "print(a)\n",
    "print(pred[\"boxes\"])\n",
    "b = pred[\"boxes\"].cpu().numpy()\n",
    "print(b)"
   ]
  },
  {
   "cell_type": "code",
   "execution_count": 43,
   "metadata": {
    "executionInfo": {
     "elapsed": 1,
     "status": "ok",
     "timestamp": 1662894003975,
     "user": {
      "displayName": "Diza Febriyan",
      "userId": "13111238588501847745"
     },
     "user_tz": -420
    },
    "id": "dkGCtuHmdHQu"
   },
   "outputs": [],
   "source": []
  },
  {
   "cell_type": "code",
   "execution_count": null,
   "metadata": {
    "id": "L4B5c4HggPgn"
   },
   "outputs": [],
   "source": []
  }
 ],
 "metadata": {
  "accelerator": "GPU",
  "colab": {
   "collapsed_sections": [],
   "provenance": []
  },
  "gpuClass": "standard",
  "kernelspec": {
   "display_name": "Python 3.10.4 ('projectmaskdetection')",
   "language": "python",
   "name": "python3"
  },
  "language_info": {
   "codemirror_mode": {
    "name": "ipython",
    "version": 3
   },
   "file_extension": ".py",
   "mimetype": "text/x-python",
   "name": "python",
   "nbconvert_exporter": "python",
   "pygments_lexer": "ipython3",
   "version": "3.10.4"
  },
  "orig_nbformat": 4,
  "vscode": {
   "interpreter": {
    "hash": "6685aba43a4768799a2bc8597a805e45a8ee43e7593ded581d1468d96e4ce323"
   }
  },
  "widgets": {
   "application/vnd.jupyter.widget-state+json": {
    "0952b80568df44149b38f4ff69e7e3a1": {
     "model_module": "@jupyter-widgets/base",
     "model_module_version": "1.2.0",
     "model_name": "LayoutModel",
     "state": {
      "_model_module": "@jupyter-widgets/base",
      "_model_module_version": "1.2.0",
      "_model_name": "LayoutModel",
      "_view_count": null,
      "_view_module": "@jupyter-widgets/base",
      "_view_module_version": "1.2.0",
      "_view_name": "LayoutView",
      "align_content": null,
      "align_items": null,
      "align_self": null,
      "border": null,
      "bottom": null,
      "display": null,
      "flex": null,
      "flex_flow": null,
      "grid_area": null,
      "grid_auto_columns": null,
      "grid_auto_flow": null,
      "grid_auto_rows": null,
      "grid_column": null,
      "grid_gap": null,
      "grid_row": null,
      "grid_template_areas": null,
      "grid_template_columns": null,
      "grid_template_rows": null,
      "height": null,
      "justify_content": null,
      "justify_items": null,
      "left": null,
      "margin": null,
      "max_height": null,
      "max_width": null,
      "min_height": null,
      "min_width": null,
      "object_fit": null,
      "object_position": null,
      "order": null,
      "overflow": null,
      "overflow_x": null,
      "overflow_y": null,
      "padding": null,
      "right": null,
      "top": null,
      "visibility": null,
      "width": null
     }
    },
    "1068f1f5f6394c10b27dc85d22532d69": {
     "model_module": "@jupyter-widgets/controls",
     "model_module_version": "1.5.0",
     "model_name": "DescriptionStyleModel",
     "state": {
      "_model_module": "@jupyter-widgets/controls",
      "_model_module_version": "1.5.0",
      "_model_name": "DescriptionStyleModel",
      "_view_count": null,
      "_view_module": "@jupyter-widgets/base",
      "_view_module_version": "1.2.0",
      "_view_name": "StyleView",
      "description_width": ""
     }
    },
    "27dbc6bb4fad441e82176a620fb43d6e": {
     "model_module": "@jupyter-widgets/base",
     "model_module_version": "1.2.0",
     "model_name": "LayoutModel",
     "state": {
      "_model_module": "@jupyter-widgets/base",
      "_model_module_version": "1.2.0",
      "_model_name": "LayoutModel",
      "_view_count": null,
      "_view_module": "@jupyter-widgets/base",
      "_view_module_version": "1.2.0",
      "_view_name": "LayoutView",
      "align_content": null,
      "align_items": null,
      "align_self": null,
      "border": null,
      "bottom": null,
      "display": null,
      "flex": null,
      "flex_flow": null,
      "grid_area": null,
      "grid_auto_columns": null,
      "grid_auto_flow": null,
      "grid_auto_rows": null,
      "grid_column": null,
      "grid_gap": null,
      "grid_row": null,
      "grid_template_areas": null,
      "grid_template_columns": null,
      "grid_template_rows": null,
      "height": null,
      "justify_content": null,
      "justify_items": null,
      "left": null,
      "margin": null,
      "max_height": null,
      "max_width": null,
      "min_height": null,
      "min_width": null,
      "object_fit": null,
      "object_position": null,
      "order": null,
      "overflow": null,
      "overflow_x": null,
      "overflow_y": null,
      "padding": null,
      "right": null,
      "top": null,
      "visibility": null,
      "width": null
     }
    },
    "4a8232349b04409682b38654317d3c44": {
     "model_module": "@jupyter-widgets/controls",
     "model_module_version": "1.5.0",
     "model_name": "FloatProgressModel",
     "state": {
      "_dom_classes": [],
      "_model_module": "@jupyter-widgets/controls",
      "_model_module_version": "1.5.0",
      "_model_name": "FloatProgressModel",
      "_view_count": null,
      "_view_module": "@jupyter-widgets/controls",
      "_view_module_version": "1.5.0",
      "_view_name": "ProgressView",
      "bar_style": "success",
      "description": "",
      "description_tooltip": null,
      "layout": "IPY_MODEL_e3ec5f7a5a4942e7b047f2f3b0cca73e",
      "max": 167502836,
      "min": 0,
      "orientation": "horizontal",
      "style": "IPY_MODEL_58d048db02304526882274d1d47341f8",
      "value": 167502836
     }
    },
    "58d048db02304526882274d1d47341f8": {
     "model_module": "@jupyter-widgets/controls",
     "model_module_version": "1.5.0",
     "model_name": "ProgressStyleModel",
     "state": {
      "_model_module": "@jupyter-widgets/controls",
      "_model_module_version": "1.5.0",
      "_model_name": "ProgressStyleModel",
      "_view_count": null,
      "_view_module": "@jupyter-widgets/base",
      "_view_module_version": "1.2.0",
      "_view_name": "StyleView",
      "bar_color": null,
      "description_width": ""
     }
    },
    "6a545bbe13794e6b8d564d3d5bd08573": {
     "model_module": "@jupyter-widgets/controls",
     "model_module_version": "1.5.0",
     "model_name": "HTMLModel",
     "state": {
      "_dom_classes": [],
      "_model_module": "@jupyter-widgets/controls",
      "_model_module_version": "1.5.0",
      "_model_name": "HTMLModel",
      "_view_count": null,
      "_view_module": "@jupyter-widgets/controls",
      "_view_module_version": "1.5.0",
      "_view_name": "HTMLView",
      "description": "",
      "description_tooltip": null,
      "layout": "IPY_MODEL_27dbc6bb4fad441e82176a620fb43d6e",
      "placeholder": "​",
      "style": "IPY_MODEL_e5e0527522864a7294ecf7d365b8689e",
      "value": "100%"
     }
    },
    "aca676cc5f404ef08bd9a7b3bfabac60": {
     "model_module": "@jupyter-widgets/controls",
     "model_module_version": "1.5.0",
     "model_name": "HTMLModel",
     "state": {
      "_dom_classes": [],
      "_model_module": "@jupyter-widgets/controls",
      "_model_module_version": "1.5.0",
      "_model_name": "HTMLModel",
      "_view_count": null,
      "_view_module": "@jupyter-widgets/controls",
      "_view_module_version": "1.5.0",
      "_view_name": "HTMLView",
      "description": "",
      "description_tooltip": null,
      "layout": "IPY_MODEL_0952b80568df44149b38f4ff69e7e3a1",
      "placeholder": "​",
      "style": "IPY_MODEL_1068f1f5f6394c10b27dc85d22532d69",
      "value": " 160M/160M [00:01&lt;00:00, 91.9MB/s]"
     }
    },
    "c2957079c8f14f989f2088b16d09a2d7": {
     "model_module": "@jupyter-widgets/base",
     "model_module_version": "1.2.0",
     "model_name": "LayoutModel",
     "state": {
      "_model_module": "@jupyter-widgets/base",
      "_model_module_version": "1.2.0",
      "_model_name": "LayoutModel",
      "_view_count": null,
      "_view_module": "@jupyter-widgets/base",
      "_view_module_version": "1.2.0",
      "_view_name": "LayoutView",
      "align_content": null,
      "align_items": null,
      "align_self": null,
      "border": null,
      "bottom": null,
      "display": null,
      "flex": null,
      "flex_flow": null,
      "grid_area": null,
      "grid_auto_columns": null,
      "grid_auto_flow": null,
      "grid_auto_rows": null,
      "grid_column": null,
      "grid_gap": null,
      "grid_row": null,
      "grid_template_areas": null,
      "grid_template_columns": null,
      "grid_template_rows": null,
      "height": null,
      "justify_content": null,
      "justify_items": null,
      "left": null,
      "margin": null,
      "max_height": null,
      "max_width": null,
      "min_height": null,
      "min_width": null,
      "object_fit": null,
      "object_position": null,
      "order": null,
      "overflow": null,
      "overflow_x": null,
      "overflow_y": null,
      "padding": null,
      "right": null,
      "top": null,
      "visibility": null,
      "width": null
     }
    },
    "e3ec5f7a5a4942e7b047f2f3b0cca73e": {
     "model_module": "@jupyter-widgets/base",
     "model_module_version": "1.2.0",
     "model_name": "LayoutModel",
     "state": {
      "_model_module": "@jupyter-widgets/base",
      "_model_module_version": "1.2.0",
      "_model_name": "LayoutModel",
      "_view_count": null,
      "_view_module": "@jupyter-widgets/base",
      "_view_module_version": "1.2.0",
      "_view_name": "LayoutView",
      "align_content": null,
      "align_items": null,
      "align_self": null,
      "border": null,
      "bottom": null,
      "display": null,
      "flex": null,
      "flex_flow": null,
      "grid_area": null,
      "grid_auto_columns": null,
      "grid_auto_flow": null,
      "grid_auto_rows": null,
      "grid_column": null,
      "grid_gap": null,
      "grid_row": null,
      "grid_template_areas": null,
      "grid_template_columns": null,
      "grid_template_rows": null,
      "height": null,
      "justify_content": null,
      "justify_items": null,
      "left": null,
      "margin": null,
      "max_height": null,
      "max_width": null,
      "min_height": null,
      "min_width": null,
      "object_fit": null,
      "object_position": null,
      "order": null,
      "overflow": null,
      "overflow_x": null,
      "overflow_y": null,
      "padding": null,
      "right": null,
      "top": null,
      "visibility": null,
      "width": null
     }
    },
    "e5e0527522864a7294ecf7d365b8689e": {
     "model_module": "@jupyter-widgets/controls",
     "model_module_version": "1.5.0",
     "model_name": "DescriptionStyleModel",
     "state": {
      "_model_module": "@jupyter-widgets/controls",
      "_model_module_version": "1.5.0",
      "_model_name": "DescriptionStyleModel",
      "_view_count": null,
      "_view_module": "@jupyter-widgets/base",
      "_view_module_version": "1.2.0",
      "_view_name": "StyleView",
      "description_width": ""
     }
    },
    "f37d3d7d91cf4840aeba2f6bd6364997": {
     "model_module": "@jupyter-widgets/controls",
     "model_module_version": "1.5.0",
     "model_name": "HBoxModel",
     "state": {
      "_dom_classes": [],
      "_model_module": "@jupyter-widgets/controls",
      "_model_module_version": "1.5.0",
      "_model_name": "HBoxModel",
      "_view_count": null,
      "_view_module": "@jupyter-widgets/controls",
      "_view_module_version": "1.5.0",
      "_view_name": "HBoxView",
      "box_style": "",
      "children": [
       "IPY_MODEL_6a545bbe13794e6b8d564d3d5bd08573",
       "IPY_MODEL_4a8232349b04409682b38654317d3c44",
       "IPY_MODEL_aca676cc5f404ef08bd9a7b3bfabac60"
      ],
      "layout": "IPY_MODEL_c2957079c8f14f989f2088b16d09a2d7"
     }
    }
   }
  }
 },
 "nbformat": 4,
 "nbformat_minor": 0
}
